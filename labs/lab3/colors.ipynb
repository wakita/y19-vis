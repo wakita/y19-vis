{
 "cells": [
  {
   "cell_type": "markdown",
   "metadata": {},
   "source": [
    "# 準備\n",
    "\n",
    "python-colormath をインストールして下さい。たとえば `pip install colormath` でインストールできます。Anaconda にも含まれているかもしれません。"
   ]
  },
  {
   "cell_type": "markdown",
   "metadata": {},
   "source": [
    "## ライブラリの読み込みとユーティリティメスッドの定義"
   ]
  },
  {
   "cell_type": "code",
   "execution_count": 1,
   "metadata": {},
   "outputs": [
    {
     "data": {
      "text/html": [
       "\n",
       "    <div class=\"bk-root\">\n",
       "        <a href=\"https://bokeh.org\" target=\"_blank\" class=\"bk-logo bk-logo-small bk-logo-notebook\"></a>\n",
       "        <span id=\"1001\">Loading BokehJS ...</span>\n",
       "    </div>"
      ]
     },
     "metadata": {},
     "output_type": "display_data"
    },
    {
     "data": {
      "application/javascript": [
       "\n",
       "(function(root) {\n",
       "  function now() {\n",
       "    return new Date();\n",
       "  }\n",
       "\n",
       "  var force = true;\n",
       "\n",
       "  if (typeof root._bokeh_onload_callbacks === \"undefined\" || force === true) {\n",
       "    root._bokeh_onload_callbacks = [];\n",
       "    root._bokeh_is_loading = undefined;\n",
       "  }\n",
       "\n",
       "  var JS_MIME_TYPE = 'application/javascript';\n",
       "  var HTML_MIME_TYPE = 'text/html';\n",
       "  var EXEC_MIME_TYPE = 'application/vnd.bokehjs_exec.v0+json';\n",
       "  var CLASS_NAME = 'output_bokeh rendered_html';\n",
       "\n",
       "  /**\n",
       "   * Render data to the DOM node\n",
       "   */\n",
       "  function render(props, node) {\n",
       "    var script = document.createElement(\"script\");\n",
       "    node.appendChild(script);\n",
       "  }\n",
       "\n",
       "  /**\n",
       "   * Handle when an output is cleared or removed\n",
       "   */\n",
       "  function handleClearOutput(event, handle) {\n",
       "    var cell = handle.cell;\n",
       "\n",
       "    var id = cell.output_area._bokeh_element_id;\n",
       "    var server_id = cell.output_area._bokeh_server_id;\n",
       "    // Clean up Bokeh references\n",
       "    if (id != null && id in Bokeh.index) {\n",
       "      Bokeh.index[id].model.document.clear();\n",
       "      delete Bokeh.index[id];\n",
       "    }\n",
       "\n",
       "    if (server_id !== undefined) {\n",
       "      // Clean up Bokeh references\n",
       "      var cmd = \"from bokeh.io.state import curstate; print(curstate().uuid_to_server['\" + server_id + \"'].get_sessions()[0].document.roots[0]._id)\";\n",
       "      cell.notebook.kernel.execute(cmd, {\n",
       "        iopub: {\n",
       "          output: function(msg) {\n",
       "            var id = msg.content.text.trim();\n",
       "            if (id in Bokeh.index) {\n",
       "              Bokeh.index[id].model.document.clear();\n",
       "              delete Bokeh.index[id];\n",
       "            }\n",
       "          }\n",
       "        }\n",
       "      });\n",
       "      // Destroy server and session\n",
       "      var cmd = \"import bokeh.io.notebook as ion; ion.destroy_server('\" + server_id + \"')\";\n",
       "      cell.notebook.kernel.execute(cmd);\n",
       "    }\n",
       "  }\n",
       "\n",
       "  /**\n",
       "   * Handle when a new output is added\n",
       "   */\n",
       "  function handleAddOutput(event, handle) {\n",
       "    var output_area = handle.output_area;\n",
       "    var output = handle.output;\n",
       "\n",
       "    // limit handleAddOutput to display_data with EXEC_MIME_TYPE content only\n",
       "    if ((output.output_type != \"display_data\") || (!output.data.hasOwnProperty(EXEC_MIME_TYPE))) {\n",
       "      return\n",
       "    }\n",
       "\n",
       "    var toinsert = output_area.element.find(\".\" + CLASS_NAME.split(' ')[0]);\n",
       "\n",
       "    if (output.metadata[EXEC_MIME_TYPE][\"id\"] !== undefined) {\n",
       "      toinsert[toinsert.length - 1].firstChild.textContent = output.data[JS_MIME_TYPE];\n",
       "      // store reference to embed id on output_area\n",
       "      output_area._bokeh_element_id = output.metadata[EXEC_MIME_TYPE][\"id\"];\n",
       "    }\n",
       "    if (output.metadata[EXEC_MIME_TYPE][\"server_id\"] !== undefined) {\n",
       "      var bk_div = document.createElement(\"div\");\n",
       "      bk_div.innerHTML = output.data[HTML_MIME_TYPE];\n",
       "      var script_attrs = bk_div.children[0].attributes;\n",
       "      for (var i = 0; i < script_attrs.length; i++) {\n",
       "        toinsert[toinsert.length - 1].firstChild.setAttribute(script_attrs[i].name, script_attrs[i].value);\n",
       "      }\n",
       "      // store reference to server id on output_area\n",
       "      output_area._bokeh_server_id = output.metadata[EXEC_MIME_TYPE][\"server_id\"];\n",
       "    }\n",
       "  }\n",
       "\n",
       "  function register_renderer(events, OutputArea) {\n",
       "\n",
       "    function append_mime(data, metadata, element) {\n",
       "      // create a DOM node to render to\n",
       "      var toinsert = this.create_output_subarea(\n",
       "        metadata,\n",
       "        CLASS_NAME,\n",
       "        EXEC_MIME_TYPE\n",
       "      );\n",
       "      this.keyboard_manager.register_events(toinsert);\n",
       "      // Render to node\n",
       "      var props = {data: data, metadata: metadata[EXEC_MIME_TYPE]};\n",
       "      render(props, toinsert[toinsert.length - 1]);\n",
       "      element.append(toinsert);\n",
       "      return toinsert\n",
       "    }\n",
       "\n",
       "    /* Handle when an output is cleared or removed */\n",
       "    events.on('clear_output.CodeCell', handleClearOutput);\n",
       "    events.on('delete.Cell', handleClearOutput);\n",
       "\n",
       "    /* Handle when a new output is added */\n",
       "    events.on('output_added.OutputArea', handleAddOutput);\n",
       "\n",
       "    /**\n",
       "     * Register the mime type and append_mime function with output_area\n",
       "     */\n",
       "    OutputArea.prototype.register_mime_type(EXEC_MIME_TYPE, append_mime, {\n",
       "      /* Is output safe? */\n",
       "      safe: true,\n",
       "      /* Index of renderer in `output_area.display_order` */\n",
       "      index: 0\n",
       "    });\n",
       "  }\n",
       "\n",
       "  // register the mime type if in Jupyter Notebook environment and previously unregistered\n",
       "  if (root.Jupyter !== undefined) {\n",
       "    var events = require('base/js/events');\n",
       "    var OutputArea = require('notebook/js/outputarea').OutputArea;\n",
       "\n",
       "    if (OutputArea.prototype.mime_types().indexOf(EXEC_MIME_TYPE) == -1) {\n",
       "      register_renderer(events, OutputArea);\n",
       "    }\n",
       "  }\n",
       "\n",
       "  \n",
       "  if (typeof (root._bokeh_timeout) === \"undefined\" || force === true) {\n",
       "    root._bokeh_timeout = Date.now() + 5000;\n",
       "    root._bokeh_failed_load = false;\n",
       "  }\n",
       "\n",
       "  var NB_LOAD_WARNING = {'data': {'text/html':\n",
       "     \"<div style='background-color: #fdd'>\\n\"+\n",
       "     \"<p>\\n\"+\n",
       "     \"BokehJS does not appear to have successfully loaded. If loading BokehJS from CDN, this \\n\"+\n",
       "     \"may be due to a slow or bad network connection. Possible fixes:\\n\"+\n",
       "     \"</p>\\n\"+\n",
       "     \"<ul>\\n\"+\n",
       "     \"<li>re-rerun `output_notebook()` to attempt to load from CDN again, or</li>\\n\"+\n",
       "     \"<li>use INLINE resources instead, as so:</li>\\n\"+\n",
       "     \"</ul>\\n\"+\n",
       "     \"<code>\\n\"+\n",
       "     \"from bokeh.resources import INLINE\\n\"+\n",
       "     \"output_notebook(resources=INLINE)\\n\"+\n",
       "     \"</code>\\n\"+\n",
       "     \"</div>\"}};\n",
       "\n",
       "  function display_loaded() {\n",
       "    var el = document.getElementById(\"1001\");\n",
       "    if (el != null) {\n",
       "      el.textContent = \"BokehJS is loading...\";\n",
       "    }\n",
       "    if (root.Bokeh !== undefined) {\n",
       "      if (el != null) {\n",
       "        el.textContent = \"BokehJS \" + root.Bokeh.version + \" successfully loaded.\";\n",
       "      }\n",
       "    } else if (Date.now() < root._bokeh_timeout) {\n",
       "      setTimeout(display_loaded, 100)\n",
       "    }\n",
       "  }\n",
       "\n",
       "\n",
       "  function run_callbacks() {\n",
       "    try {\n",
       "      root._bokeh_onload_callbacks.forEach(function(callback) {\n",
       "        if (callback != null)\n",
       "          callback();\n",
       "      });\n",
       "    } finally {\n",
       "      delete root._bokeh_onload_callbacks\n",
       "    }\n",
       "    console.debug(\"Bokeh: all callbacks have finished\");\n",
       "  }\n",
       "\n",
       "  function load_libs(css_urls, js_urls, callback) {\n",
       "    if (css_urls == null) css_urls = [];\n",
       "    if (js_urls == null) js_urls = [];\n",
       "\n",
       "    root._bokeh_onload_callbacks.push(callback);\n",
       "    if (root._bokeh_is_loading > 0) {\n",
       "      console.debug(\"Bokeh: BokehJS is being loaded, scheduling callback at\", now());\n",
       "      return null;\n",
       "    }\n",
       "    if (js_urls == null || js_urls.length === 0) {\n",
       "      run_callbacks();\n",
       "      return null;\n",
       "    }\n",
       "    console.debug(\"Bokeh: BokehJS not loaded, scheduling load and callback at\", now());\n",
       "    root._bokeh_is_loading = css_urls.length + js_urls.length;\n",
       "\n",
       "    function on_load() {\n",
       "      root._bokeh_is_loading--;\n",
       "      if (root._bokeh_is_loading === 0) {\n",
       "        console.debug(\"Bokeh: all BokehJS libraries/stylesheets loaded\");\n",
       "        run_callbacks()\n",
       "      }\n",
       "    }\n",
       "\n",
       "    function on_error() {\n",
       "      console.error(\"failed to load \" + url);\n",
       "    }\n",
       "\n",
       "    for (var i = 0; i < css_urls.length; i++) {\n",
       "      var url = css_urls[i];\n",
       "      const element = document.createElement(\"link\");\n",
       "      element.onload = on_load;\n",
       "      element.onerror = on_error;\n",
       "      element.rel = \"stylesheet\";\n",
       "      element.type = \"text/css\";\n",
       "      element.href = url;\n",
       "      console.debug(\"Bokeh: injecting link tag for BokehJS stylesheet: \", url);\n",
       "      document.body.appendChild(element);\n",
       "    }\n",
       "\n",
       "    for (var i = 0; i < js_urls.length; i++) {\n",
       "      var url = js_urls[i];\n",
       "      var element = document.createElement('script');\n",
       "      element.onload = on_load;\n",
       "      element.onerror = on_error;\n",
       "      element.async = false;\n",
       "      element.src = url;\n",
       "      console.debug(\"Bokeh: injecting script tag for BokehJS library: \", url);\n",
       "      document.head.appendChild(element);\n",
       "    }\n",
       "  };var element = document.getElementById(\"1001\");\n",
       "  if (element == null) {\n",
       "    console.error(\"Bokeh: ERROR: autoload.js configured with elementid '1001' but no matching script tag was found. \")\n",
       "    return false;\n",
       "  }\n",
       "\n",
       "  function inject_raw_css(css) {\n",
       "    const element = document.createElement(\"style\");\n",
       "    element.appendChild(document.createTextNode(css));\n",
       "    document.body.appendChild(element);\n",
       "  }\n",
       "\n",
       "  \n",
       "  var js_urls = [\"https://cdn.pydata.org/bokeh/release/bokeh-1.4.0.min.js\", \"https://cdn.pydata.org/bokeh/release/bokeh-widgets-1.4.0.min.js\", \"https://cdn.pydata.org/bokeh/release/bokeh-tables-1.4.0.min.js\", \"https://cdn.pydata.org/bokeh/release/bokeh-gl-1.4.0.min.js\"];\n",
       "  var css_urls = [];\n",
       "  \n",
       "\n",
       "  var inline_js = [\n",
       "    function(Bokeh) {\n",
       "      Bokeh.set_log_level(\"info\");\n",
       "    },\n",
       "    function(Bokeh) {\n",
       "    \n",
       "    \n",
       "    }\n",
       "  ];\n",
       "\n",
       "  function run_inline_js() {\n",
       "    \n",
       "    if (root.Bokeh !== undefined || force === true) {\n",
       "      \n",
       "    for (var i = 0; i < inline_js.length; i++) {\n",
       "      inline_js[i].call(root, root.Bokeh);\n",
       "    }\n",
       "    if (force === true) {\n",
       "        display_loaded();\n",
       "      }} else if (Date.now() < root._bokeh_timeout) {\n",
       "      setTimeout(run_inline_js, 100);\n",
       "    } else if (!root._bokeh_failed_load) {\n",
       "      console.log(\"Bokeh: BokehJS failed to load within specified timeout.\");\n",
       "      root._bokeh_failed_load = true;\n",
       "    } else if (force !== true) {\n",
       "      var cell = $(document.getElementById(\"1001\")).parents('.cell').data().cell;\n",
       "      cell.output_area.append_execute_result(NB_LOAD_WARNING)\n",
       "    }\n",
       "\n",
       "  }\n",
       "\n",
       "  if (root._bokeh_is_loading === 0) {\n",
       "    console.debug(\"Bokeh: BokehJS loaded, going straight to plotting\");\n",
       "    run_inline_js();\n",
       "  } else {\n",
       "    load_libs(css_urls, js_urls, function() {\n",
       "      console.debug(\"Bokeh: BokehJS plotting callback run at\", now());\n",
       "      run_inline_js();\n",
       "    });\n",
       "  }\n",
       "}(window));"
      ],
      "application/vnd.bokehjs_load.v0+json": "\n(function(root) {\n  function now() {\n    return new Date();\n  }\n\n  var force = true;\n\n  if (typeof root._bokeh_onload_callbacks === \"undefined\" || force === true) {\n    root._bokeh_onload_callbacks = [];\n    root._bokeh_is_loading = undefined;\n  }\n\n  \n\n  \n  if (typeof (root._bokeh_timeout) === \"undefined\" || force === true) {\n    root._bokeh_timeout = Date.now() + 5000;\n    root._bokeh_failed_load = false;\n  }\n\n  var NB_LOAD_WARNING = {'data': {'text/html':\n     \"<div style='background-color: #fdd'>\\n\"+\n     \"<p>\\n\"+\n     \"BokehJS does not appear to have successfully loaded. If loading BokehJS from CDN, this \\n\"+\n     \"may be due to a slow or bad network connection. Possible fixes:\\n\"+\n     \"</p>\\n\"+\n     \"<ul>\\n\"+\n     \"<li>re-rerun `output_notebook()` to attempt to load from CDN again, or</li>\\n\"+\n     \"<li>use INLINE resources instead, as so:</li>\\n\"+\n     \"</ul>\\n\"+\n     \"<code>\\n\"+\n     \"from bokeh.resources import INLINE\\n\"+\n     \"output_notebook(resources=INLINE)\\n\"+\n     \"</code>\\n\"+\n     \"</div>\"}};\n\n  function display_loaded() {\n    var el = document.getElementById(\"1001\");\n    if (el != null) {\n      el.textContent = \"BokehJS is loading...\";\n    }\n    if (root.Bokeh !== undefined) {\n      if (el != null) {\n        el.textContent = \"BokehJS \" + root.Bokeh.version + \" successfully loaded.\";\n      }\n    } else if (Date.now() < root._bokeh_timeout) {\n      setTimeout(display_loaded, 100)\n    }\n  }\n\n\n  function run_callbacks() {\n    try {\n      root._bokeh_onload_callbacks.forEach(function(callback) {\n        if (callback != null)\n          callback();\n      });\n    } finally {\n      delete root._bokeh_onload_callbacks\n    }\n    console.debug(\"Bokeh: all callbacks have finished\");\n  }\n\n  function load_libs(css_urls, js_urls, callback) {\n    if (css_urls == null) css_urls = [];\n    if (js_urls == null) js_urls = [];\n\n    root._bokeh_onload_callbacks.push(callback);\n    if (root._bokeh_is_loading > 0) {\n      console.debug(\"Bokeh: BokehJS is being loaded, scheduling callback at\", now());\n      return null;\n    }\n    if (js_urls == null || js_urls.length === 0) {\n      run_callbacks();\n      return null;\n    }\n    console.debug(\"Bokeh: BokehJS not loaded, scheduling load and callback at\", now());\n    root._bokeh_is_loading = css_urls.length + js_urls.length;\n\n    function on_load() {\n      root._bokeh_is_loading--;\n      if (root._bokeh_is_loading === 0) {\n        console.debug(\"Bokeh: all BokehJS libraries/stylesheets loaded\");\n        run_callbacks()\n      }\n    }\n\n    function on_error() {\n      console.error(\"failed to load \" + url);\n    }\n\n    for (var i = 0; i < css_urls.length; i++) {\n      var url = css_urls[i];\n      const element = document.createElement(\"link\");\n      element.onload = on_load;\n      element.onerror = on_error;\n      element.rel = \"stylesheet\";\n      element.type = \"text/css\";\n      element.href = url;\n      console.debug(\"Bokeh: injecting link tag for BokehJS stylesheet: \", url);\n      document.body.appendChild(element);\n    }\n\n    for (var i = 0; i < js_urls.length; i++) {\n      var url = js_urls[i];\n      var element = document.createElement('script');\n      element.onload = on_load;\n      element.onerror = on_error;\n      element.async = false;\n      element.src = url;\n      console.debug(\"Bokeh: injecting script tag for BokehJS library: \", url);\n      document.head.appendChild(element);\n    }\n  };var element = document.getElementById(\"1001\");\n  if (element == null) {\n    console.error(\"Bokeh: ERROR: autoload.js configured with elementid '1001' but no matching script tag was found. \")\n    return false;\n  }\n\n  function inject_raw_css(css) {\n    const element = document.createElement(\"style\");\n    element.appendChild(document.createTextNode(css));\n    document.body.appendChild(element);\n  }\n\n  \n  var js_urls = [\"https://cdn.pydata.org/bokeh/release/bokeh-1.4.0.min.js\", \"https://cdn.pydata.org/bokeh/release/bokeh-widgets-1.4.0.min.js\", \"https://cdn.pydata.org/bokeh/release/bokeh-tables-1.4.0.min.js\", \"https://cdn.pydata.org/bokeh/release/bokeh-gl-1.4.0.min.js\"];\n  var css_urls = [];\n  \n\n  var inline_js = [\n    function(Bokeh) {\n      Bokeh.set_log_level(\"info\");\n    },\n    function(Bokeh) {\n    \n    \n    }\n  ];\n\n  function run_inline_js() {\n    \n    if (root.Bokeh !== undefined || force === true) {\n      \n    for (var i = 0; i < inline_js.length; i++) {\n      inline_js[i].call(root, root.Bokeh);\n    }\n    if (force === true) {\n        display_loaded();\n      }} else if (Date.now() < root._bokeh_timeout) {\n      setTimeout(run_inline_js, 100);\n    } else if (!root._bokeh_failed_load) {\n      console.log(\"Bokeh: BokehJS failed to load within specified timeout.\");\n      root._bokeh_failed_load = true;\n    } else if (force !== true) {\n      var cell = $(document.getElementById(\"1001\")).parents('.cell').data().cell;\n      cell.output_area.append_execute_result(NB_LOAD_WARNING)\n    }\n\n  }\n\n  if (root._bokeh_is_loading === 0) {\n    console.debug(\"Bokeh: BokehJS loaded, going straight to plotting\");\n    run_inline_js();\n  } else {\n    load_libs(css_urls, js_urls, function() {\n      console.debug(\"Bokeh: BokehJS plotting callback run at\", now());\n      run_inline_js();\n    });\n  }\n}(window));"
     },
     "metadata": {},
     "output_type": "display_data"
    }
   ],
   "source": [
    "from math import pi\n",
    "\n",
    "import numpy as np\n",
    "\n",
    "from colormath.color_objects import ColorBase, sRGBColor as sRGB, HSVColor as HSV, LabColor as Lab\n",
    "from colormath.color_conversions import convert_color\n",
    "from colormath.color_diff import delta_e_cie2000\n",
    "\n",
    "from bokeh.plotting import figure, output_notebook, show\n",
    "from bokeh.models import *\n",
    "from bokeh.layouts import *\n",
    "\n",
    "output_notebook()"
   ]
  },
  {
   "cell_type": "code",
   "execution_count": 2,
   "metadata": {},
   "outputs": [],
   "source": [
    "# sRGB 関連のユーティリティ\n",
    "sRGB.fromHex = lambda hex: sRGB.new_from_rgb_hex(hex)\n",
    "sRGB.hex = lambda c: c.get_rgb_hex()\n",
    "def _sRGB_clamp_(c):\n",
    "    r, g, b = c.clamped_rgb_r, c.clamped_rgb_g, c.clamped_rgb_b\n",
    "    return sRGB(r, g, b)\n",
    "sRGB.clamp = _sRGB_clamp_\n",
    "HSV.hex = Lab.hex = lambda c: c.sRGB().hex()\n",
    "ColorBase.values = ColorBase.get_value_tuple\n",
    "\n",
    "# 色変換のメソッド\n",
    "ColorBase.sRGB = lambda c: convert_color(c, sRGB)\n",
    "ColorBase.HSV  = lambda c: convert_color(c, HSV)\n",
    "ColorBase.Lab  = lambda c: convert_color(c, Lab)\n",
    "\n",
    "# 色距離を計算するメソッド\n",
    "def delta_e_cie(c1, c2):\n",
    "    if not isinstance(c1, Lab): c1 = c1.Lab()\n",
    "    if not isinstance(c2, Lab): c2 = c2.Lab()\n",
    "    return delta_e_cie2000(c1, c2)\n",
    "\n",
    "ColorBase.delta = lambda c1, c2: delta_e_cie(c1, c2)"
   ]
  },
  {
   "cell_type": "markdown",
   "metadata": {},
   "source": [
    "## 実験的に用いる sRGB 色の定義"
   ]
  },
  {
   "cell_type": "code",
   "execution_count": 3,
   "metadata": {},
   "outputs": [
    {
     "name": "stdout",
     "output_type": "stream",
     "text": [
      "# Standard RGB color space\n",
      "白\tsRGBColor (rgb_r:1.0000 rgb_g:1.0000 rgb_b:1.0000)\n",
      "赤\tsRGBColor (rgb_r:1.0000 rgb_g:0.0000 rgb_b:0.0000)\n",
      "緑\tsRGBColor (rgb_r:0.0000 rgb_g:1.0000 rgb_b:0.0000)\n",
      "青\tsRGBColor (rgb_r:0.0000 rgb_g:0.0000 rgb_b:1.0000)\n"
     ]
    },
    {
     "data": {
      "text/html": [
       "\n",
       "\n",
       "\n",
       "\n",
       "\n",
       "\n",
       "  <div class=\"bk-root\" id=\"23eb4f03-5d7b-4a8f-902f-f46e6672c82c\" data-root-id=\"1004\"></div>\n"
      ]
     },
     "metadata": {},
     "output_type": "display_data"
    },
    {
     "data": {
      "application/javascript": [
       "(function(root) {\n",
       "  function embed_document(root) {\n",
       "    \n",
       "  var docs_json = {\"e5178f42-4e0d-4cef-88d0-74815136305a\":{\"roots\":{\"references\":[{\"attributes\":{\"frame_height\":200,\"frame_width\":400,\"renderers\":[{\"id\":\"1009\",\"type\":\"GlyphRenderer\"},{\"id\":\"1013\",\"type\":\"GlyphRenderer\"},{\"id\":\"1017\",\"type\":\"GlyphRenderer\"}],\"title\":{\"id\":\"1020\",\"type\":\"Title\"},\"toolbar\":{\"id\":\"1022\",\"type\":\"Toolbar\"},\"x_range\":{\"id\":\"1002\",\"type\":\"Range1d\"},\"x_scale\":{\"id\":\"1021\",\"type\":\"LinearScale\"},\"y_range\":{\"id\":\"1003\",\"type\":\"Range1d\"},\"y_scale\":{\"id\":\"1019\",\"type\":\"LinearScale\"}},\"id\":\"1004\",\"type\":\"Plot\"},{\"attributes\":{\"text\":\"\"},\"id\":\"1020\",\"type\":\"Title\"},{\"attributes\":{\"callback\":null,\"end\":200},\"id\":\"1003\",\"type\":\"Range1d\"},{\"attributes\":{\"fill_color\":{\"value\":\"#00ff00\"},\"line_color\":{\"value\":null},\"radius\":{\"units\":\"data\",\"value\":45},\"x\":{\"value\":200},\"y\":{\"value\":100}},\"id\":\"1011\",\"type\":\"Circle\"},{\"attributes\":{},\"id\":\"1021\",\"type\":\"LinearScale\"},{\"attributes\":{\"fill_color\":{\"value\":\"#ff0000\"},\"line_color\":{\"value\":null},\"radius\":{\"units\":\"data\",\"value\":45},\"x\":{\"value\":50},\"y\":{\"value\":100}},\"id\":\"1007\",\"type\":\"Circle\"},{\"attributes\":{},\"id\":\"1024\",\"type\":\"Selection\"},{\"attributes\":{\"active_drag\":\"auto\",\"active_inspect\":\"auto\",\"active_multi\":null,\"active_scroll\":\"auto\",\"active_tap\":\"auto\"},\"id\":\"1022\",\"type\":\"Toolbar\"},{\"attributes\":{\"callback\":null,\"data\":{},\"selected\":{\"id\":\"1024\",\"type\":\"Selection\"},\"selection_policy\":{\"id\":\"1023\",\"type\":\"UnionRenderers\"}},\"id\":\"1008\",\"type\":\"ColumnDataSource\"},{\"attributes\":{\"source\":{\"id\":\"1008\",\"type\":\"ColumnDataSource\"}},\"id\":\"1010\",\"type\":\"CDSView\"},{\"attributes\":{},\"id\":\"1025\",\"type\":\"UnionRenderers\"},{\"attributes\":{},\"id\":\"1028\",\"type\":\"Selection\"},{\"attributes\":{\"callback\":null,\"data\":{},\"selected\":{\"id\":\"1026\",\"type\":\"Selection\"},\"selection_policy\":{\"id\":\"1025\",\"type\":\"UnionRenderers\"}},\"id\":\"1012\",\"type\":\"ColumnDataSource\"},{\"attributes\":{},\"id\":\"1026\",\"type\":\"Selection\"},{\"attributes\":{},\"id\":\"1027\",\"type\":\"UnionRenderers\"},{\"attributes\":{\"callback\":null,\"data\":{},\"selected\":{\"id\":\"1028\",\"type\":\"Selection\"},\"selection_policy\":{\"id\":\"1027\",\"type\":\"UnionRenderers\"}},\"id\":\"1016\",\"type\":\"ColumnDataSource\"},{\"attributes\":{\"fill_color\":{\"value\":\"#0000ff\"},\"line_color\":{\"value\":null},\"radius\":{\"units\":\"data\",\"value\":45},\"x\":{\"value\":350},\"y\":{\"value\":100}},\"id\":\"1015\",\"type\":\"Circle\"},{\"attributes\":{\"data_source\":{\"id\":\"1012\",\"type\":\"ColumnDataSource\"},\"glyph\":{\"id\":\"1011\",\"type\":\"Circle\"},\"hover_glyph\":null,\"muted_glyph\":null,\"view\":{\"id\":\"1014\",\"type\":\"CDSView\"}},\"id\":\"1013\",\"type\":\"GlyphRenderer\"},{\"attributes\":{\"callback\":null,\"end\":400},\"id\":\"1002\",\"type\":\"Range1d\"},{\"attributes\":{\"source\":{\"id\":\"1012\",\"type\":\"ColumnDataSource\"}},\"id\":\"1014\",\"type\":\"CDSView\"},{\"attributes\":{\"data_source\":{\"id\":\"1008\",\"type\":\"ColumnDataSource\"},\"glyph\":{\"id\":\"1007\",\"type\":\"Circle\"},\"hover_glyph\":null,\"muted_glyph\":null,\"view\":{\"id\":\"1010\",\"type\":\"CDSView\"}},\"id\":\"1009\",\"type\":\"GlyphRenderer\"},{\"attributes\":{},\"id\":\"1023\",\"type\":\"UnionRenderers\"},{\"attributes\":{\"data_source\":{\"id\":\"1016\",\"type\":\"ColumnDataSource\"},\"glyph\":{\"id\":\"1015\",\"type\":\"Circle\"},\"hover_glyph\":null,\"muted_glyph\":null,\"view\":{\"id\":\"1018\",\"type\":\"CDSView\"}},\"id\":\"1017\",\"type\":\"GlyphRenderer\"},{\"attributes\":{},\"id\":\"1019\",\"type\":\"LinearScale\"},{\"attributes\":{\"source\":{\"id\":\"1016\",\"type\":\"ColumnDataSource\"}},\"id\":\"1018\",\"type\":\"CDSView\"}],\"root_ids\":[\"1004\"]},\"title\":\"Bokeh Application\",\"version\":\"1.4.0\"}};\n",
       "  var render_items = [{\"docid\":\"e5178f42-4e0d-4cef-88d0-74815136305a\",\"roots\":{\"1004\":\"23eb4f03-5d7b-4a8f-902f-f46e6672c82c\"}}];\n",
       "  root.Bokeh.embed.embed_items_notebook(docs_json, render_items);\n",
       "\n",
       "  }\n",
       "  if (root.Bokeh !== undefined) {\n",
       "    embed_document(root);\n",
       "  } else {\n",
       "    var attempts = 0;\n",
       "    var timer = setInterval(function(root) {\n",
       "      if (root.Bokeh !== undefined) {\n",
       "        clearInterval(timer);\n",
       "        embed_document(root);\n",
       "      } else {\n",
       "        attempts++;\n",
       "        if (attempts > 100) {\n",
       "          clearInterval(timer);\n",
       "          console.log(\"Bokeh: ERROR: Unable to run BokehJS code because BokehJS library is missing\");\n",
       "        }\n",
       "      }\n",
       "    }, 10, root)\n",
       "  }\n",
       "})(window);"
      ],
      "application/vnd.bokehjs_exec.v0+json": ""
     },
     "metadata": {
      "application/vnd.bokehjs_exec.v0+json": {
       "id": "1004"
      }
     },
     "output_type": "display_data"
    }
   ],
   "source": [
    "colors = list(zip('白 赤 緑 青'.split(),\n",
    "                  [sRGB.fromHex(hex)\n",
    "                   for hex in '#ffffff #ff0000 #00ff00 #0000ff'.split()]))\n",
    "print('# Standard RGB color space')\n",
    "for name, color in colors: print(f'{name}\\t{color}')\n",
    "\n",
    "def plot(): return Plot(frame_width=400, frame_height=200,\n",
    "                        x_range=Range1d(0, 400), y_range=Range1d(0, 200))\n",
    "\n",
    "p = plot()\n",
    "xs = np.linspace(50, 350, num=3, dtype=np.int)\n",
    "for (_, color), x in zip(colors[1:], xs):\n",
    "    p.add_glyph(Circle(x=x, y=100, radius=45, fill_color=color.hex(), line_color=None))\n",
    "show(p)"
   ]
  },
  {
   "cell_type": "markdown",
   "metadata": {},
   "source": [
    "## 色空間の変換"
   ]
  },
  {
   "cell_type": "code",
   "execution_count": 4,
   "metadata": {},
   "outputs": [
    {
     "name": "stdout",
     "output_type": "stream",
     "text": [
      "# HSV color space\n",
      "白\tHSVColor (hsv_h:0.0000 hsv_s:0.0000 hsv_v:1.0000)\n",
      "赤\tHSVColor (hsv_h:0.0000 hsv_s:1.0000 hsv_v:1.0000)\n",
      "緑\tHSVColor (hsv_h:120.0000 hsv_s:1.0000 hsv_v:1.0000)\n",
      "青\tHSVColor (hsv_h:240.0000 hsv_s:1.0000 hsv_v:1.0000)\n"
     ]
    },
    {
     "data": {
      "text/html": [
       "\n",
       "\n",
       "\n",
       "\n",
       "\n",
       "\n",
       "  <div class=\"bk-root\" id=\"6d0e6429-5067-4b17-8165-caef632cf606\" data-root-id=\"1099\"></div>\n"
      ]
     },
     "metadata": {},
     "output_type": "display_data"
    },
    {
     "data": {
      "application/javascript": [
       "(function(root) {\n",
       "  function embed_document(root) {\n",
       "    \n",
       "  var docs_json = {\"d6a461e8-7a04-4a7f-afdd-f6646a258d1a\":{\"roots\":{\"references\":[{\"attributes\":{\"frame_height\":200,\"frame_width\":400,\"renderers\":[{\"id\":\"1104\",\"type\":\"GlyphRenderer\"},{\"id\":\"1108\",\"type\":\"GlyphRenderer\"},{\"id\":\"1112\",\"type\":\"GlyphRenderer\"}],\"title\":{\"id\":\"1125\",\"type\":\"Title\"},\"toolbar\":{\"id\":\"1127\",\"type\":\"Toolbar\"},\"x_range\":{\"id\":\"1097\",\"type\":\"Range1d\"},\"x_scale\":{\"id\":\"1126\",\"type\":\"LinearScale\"},\"y_range\":{\"id\":\"1098\",\"type\":\"Range1d\"},\"y_scale\":{\"id\":\"1124\",\"type\":\"LinearScale\"}},\"id\":\"1099\",\"type\":\"Plot\"},{\"attributes\":{\"data_source\":{\"id\":\"1111\",\"type\":\"ColumnDataSource\"},\"glyph\":{\"id\":\"1110\",\"type\":\"Circle\"},\"hover_glyph\":null,\"muted_glyph\":null,\"view\":{\"id\":\"1113\",\"type\":\"CDSView\"}},\"id\":\"1112\",\"type\":\"GlyphRenderer\"},{\"attributes\":{\"data_source\":{\"id\":\"1107\",\"type\":\"ColumnDataSource\"},\"glyph\":{\"id\":\"1106\",\"type\":\"Circle\"},\"hover_glyph\":null,\"muted_glyph\":null,\"view\":{\"id\":\"1109\",\"type\":\"CDSView\"}},\"id\":\"1108\",\"type\":\"GlyphRenderer\"},{\"attributes\":{\"fill_color\":{\"value\":\"#0000ff\"},\"line_color\":{\"value\":null},\"radius\":{\"units\":\"data\",\"value\":45},\"x\":{\"value\":350},\"y\":{\"value\":100}},\"id\":\"1110\",\"type\":\"Circle\"},{\"attributes\":{\"source\":{\"id\":\"1111\",\"type\":\"ColumnDataSource\"}},\"id\":\"1113\",\"type\":\"CDSView\"},{\"attributes\":{\"callback\":null,\"data\":{},\"selected\":{\"id\":\"1133\",\"type\":\"Selection\"},\"selection_policy\":{\"id\":\"1132\",\"type\":\"UnionRenderers\"}},\"id\":\"1111\",\"type\":\"ColumnDataSource\"},{\"attributes\":{},\"id\":\"1128\",\"type\":\"UnionRenderers\"},{\"attributes\":{},\"id\":\"1124\",\"type\":\"LinearScale\"},{\"attributes\":{\"source\":{\"id\":\"1107\",\"type\":\"ColumnDataSource\"}},\"id\":\"1109\",\"type\":\"CDSView\"},{\"attributes\":{\"callback\":null,\"end\":200},\"id\":\"1098\",\"type\":\"Range1d\"},{\"attributes\":{},\"id\":\"1131\",\"type\":\"Selection\"},{\"attributes\":{\"text\":\"\"},\"id\":\"1125\",\"type\":\"Title\"},{\"attributes\":{\"source\":{\"id\":\"1103\",\"type\":\"ColumnDataSource\"}},\"id\":\"1105\",\"type\":\"CDSView\"},{\"attributes\":{\"callback\":null,\"end\":400},\"id\":\"1097\",\"type\":\"Range1d\"},{\"attributes\":{},\"id\":\"1130\",\"type\":\"UnionRenderers\"},{\"attributes\":{},\"id\":\"1126\",\"type\":\"LinearScale\"},{\"attributes\":{\"callback\":null,\"data\":{},\"selected\":{\"id\":\"1131\",\"type\":\"Selection\"},\"selection_policy\":{\"id\":\"1130\",\"type\":\"UnionRenderers\"}},\"id\":\"1107\",\"type\":\"ColumnDataSource\"},{\"attributes\":{\"callback\":null,\"data\":{},\"selected\":{\"id\":\"1129\",\"type\":\"Selection\"},\"selection_policy\":{\"id\":\"1128\",\"type\":\"UnionRenderers\"}},\"id\":\"1103\",\"type\":\"ColumnDataSource\"},{\"attributes\":{\"fill_color\":{\"value\":\"#ff0000\"},\"line_color\":{\"value\":null},\"radius\":{\"units\":\"data\",\"value\":45},\"x\":{\"value\":50},\"y\":{\"value\":100}},\"id\":\"1102\",\"type\":\"Circle\"},{\"attributes\":{},\"id\":\"1129\",\"type\":\"Selection\"},{\"attributes\":{},\"id\":\"1133\",\"type\":\"Selection\"},{\"attributes\":{\"active_drag\":\"auto\",\"active_inspect\":\"auto\",\"active_multi\":null,\"active_scroll\":\"auto\",\"active_tap\":\"auto\"},\"id\":\"1127\",\"type\":\"Toolbar\"},{\"attributes\":{\"fill_color\":{\"value\":\"#00ff00\"},\"line_color\":{\"value\":null},\"radius\":{\"units\":\"data\",\"value\":45},\"x\":{\"value\":200},\"y\":{\"value\":100}},\"id\":\"1106\",\"type\":\"Circle\"},{\"attributes\":{\"data_source\":{\"id\":\"1103\",\"type\":\"ColumnDataSource\"},\"glyph\":{\"id\":\"1102\",\"type\":\"Circle\"},\"hover_glyph\":null,\"muted_glyph\":null,\"view\":{\"id\":\"1105\",\"type\":\"CDSView\"}},\"id\":\"1104\",\"type\":\"GlyphRenderer\"},{\"attributes\":{},\"id\":\"1132\",\"type\":\"UnionRenderers\"}],\"root_ids\":[\"1099\"]},\"title\":\"Bokeh Application\",\"version\":\"1.4.0\"}};\n",
       "  var render_items = [{\"docid\":\"d6a461e8-7a04-4a7f-afdd-f6646a258d1a\",\"roots\":{\"1099\":\"6d0e6429-5067-4b17-8165-caef632cf606\"}}];\n",
       "  root.Bokeh.embed.embed_items_notebook(docs_json, render_items);\n",
       "\n",
       "  }\n",
       "  if (root.Bokeh !== undefined) {\n",
       "    embed_document(root);\n",
       "  } else {\n",
       "    var attempts = 0;\n",
       "    var timer = setInterval(function(root) {\n",
       "      if (root.Bokeh !== undefined) {\n",
       "        clearInterval(timer);\n",
       "        embed_document(root);\n",
       "      } else {\n",
       "        attempts++;\n",
       "        if (attempts > 100) {\n",
       "          clearInterval(timer);\n",
       "          console.log(\"Bokeh: ERROR: Unable to run BokehJS code because BokehJS library is missing\");\n",
       "        }\n",
       "      }\n",
       "    }, 10, root)\n",
       "  }\n",
       "})(window);"
      ],
      "application/vnd.bokehjs_exec.v0+json": ""
     },
     "metadata": {
      "application/vnd.bokehjs_exec.v0+json": {
       "id": "1099"
      }
     },
     "output_type": "display_data"
    }
   ],
   "source": [
    "print('# HSV color space')\n",
    "for name, color in colors: print(f'{name}\\t{color.HSV()}')\n",
    "    \n",
    "p = plot()\n",
    "for hue, x in zip(range(0, 360, 120), xs):\n",
    "    p.add_glyph(Circle(x=x, y=100, radius=45, fill_color=HSV(hue, 1, 1).hex(), line_color=None))\n",
    "show(p)"
   ]
  },
  {
   "cell_type": "code",
   "execution_count": 5,
   "metadata": {},
   "outputs": [
    {
     "name": "stdout",
     "output_type": "stream",
     "text": [
      "# CIELab color space\n",
      "白\tLabColor (lab_l:100.0000 lab_a:-0.0005 lab_b:-0.0086)\n",
      "赤\tLabColor (lab_l:53.2390 lab_a:80.0905 lab_b:67.2014)\n",
      "緑\tLabColor (lab_l:87.7350 lab_a:-86.1829 lab_b:83.1795)\n",
      "青\tLabColor (lab_l:32.2994 lab_a:79.1914 lab_b:-107.8655)\n",
      "LabColor (lab_l:60.0000 lab_a:50.0000 lab_b:0.0000)\n",
      "LabColor (lab_l:60.0000 lab_a:-25.0000 lab_b:43.3013)\n",
      "LabColor (lab_l:60.0000 lab_a:-25.0000 lab_b:-43.3013)\n"
     ]
    },
    {
     "data": {
      "text/html": [
       "\n",
       "\n",
       "\n",
       "\n",
       "\n",
       "\n",
       "  <div class=\"bk-root\" id=\"35435473-d3e2-4f33-9ccb-7c19863abdc5\" data-root-id=\"1204\"></div>\n"
      ]
     },
     "metadata": {},
     "output_type": "display_data"
    },
    {
     "data": {
      "application/javascript": [
       "(function(root) {\n",
       "  function embed_document(root) {\n",
       "    \n",
       "  var docs_json = {\"2ad7ec5d-77f9-4783-82ee-69d0d6254540\":{\"roots\":{\"references\":[{\"attributes\":{\"frame_height\":200,\"frame_width\":400,\"renderers\":[{\"id\":\"1209\",\"type\":\"GlyphRenderer\"},{\"id\":\"1213\",\"type\":\"GlyphRenderer\"},{\"id\":\"1217\",\"type\":\"GlyphRenderer\"}],\"title\":{\"id\":\"1240\",\"type\":\"Title\"},\"toolbar\":{\"id\":\"1242\",\"type\":\"Toolbar\"},\"x_range\":{\"id\":\"1202\",\"type\":\"Range1d\"},\"x_scale\":{\"id\":\"1241\",\"type\":\"LinearScale\"},\"y_range\":{\"id\":\"1203\",\"type\":\"Range1d\"},\"y_scale\":{\"id\":\"1239\",\"type\":\"LinearScale\"}},\"id\":\"1204\",\"type\":\"Plot\"},{\"attributes\":{\"callback\":null,\"data\":{},\"selected\":{\"id\":\"1248\",\"type\":\"Selection\"},\"selection_policy\":{\"id\":\"1247\",\"type\":\"UnionRenderers\"}},\"id\":\"1216\",\"type\":\"ColumnDataSource\"},{\"attributes\":{},\"id\":\"1247\",\"type\":\"UnionRenderers\"},{\"attributes\":{},\"id\":\"1248\",\"type\":\"Selection\"},{\"attributes\":{\"data_source\":{\"id\":\"1208\",\"type\":\"ColumnDataSource\"},\"glyph\":{\"id\":\"1207\",\"type\":\"Circle\"},\"hover_glyph\":null,\"muted_glyph\":null,\"view\":{\"id\":\"1210\",\"type\":\"CDSView\"}},\"id\":\"1209\",\"type\":\"GlyphRenderer\"},{\"attributes\":{\"fill_color\":{\"value\":\"#009fdc\"},\"line_color\":{\"value\":null},\"radius\":{\"units\":\"data\",\"value\":45},\"x\":{\"value\":350},\"y\":{\"value\":100}},\"id\":\"1215\",\"type\":\"Circle\"},{\"attributes\":{\"callback\":null,\"data\":{},\"selected\":{\"id\":\"1244\",\"type\":\"Selection\"},\"selection_policy\":{\"id\":\"1243\",\"type\":\"UnionRenderers\"}},\"id\":\"1208\",\"type\":\"ColumnDataSource\"},{\"attributes\":{\"data_source\":{\"id\":\"1212\",\"type\":\"ColumnDataSource\"},\"glyph\":{\"id\":\"1211\",\"type\":\"Circle\"},\"hover_glyph\":null,\"muted_glyph\":null,\"view\":{\"id\":\"1214\",\"type\":\"CDSView\"}},\"id\":\"1213\",\"type\":\"GlyphRenderer\"},{\"attributes\":{\"source\":{\"id\":\"1208\",\"type\":\"ColumnDataSource\"}},\"id\":\"1210\",\"type\":\"CDSView\"},{\"attributes\":{\"source\":{\"id\":\"1216\",\"type\":\"ColumnDataSource\"}},\"id\":\"1218\",\"type\":\"CDSView\"},{\"attributes\":{\"source\":{\"id\":\"1212\",\"type\":\"ColumnDataSource\"}},\"id\":\"1214\",\"type\":\"CDSView\"},{\"attributes\":{},\"id\":\"1241\",\"type\":\"LinearScale\"},{\"attributes\":{},\"id\":\"1243\",\"type\":\"UnionRenderers\"},{\"attributes\":{\"text\":\"\"},\"id\":\"1240\",\"type\":\"Title\"},{\"attributes\":{\"fill_color\":{\"value\":\"#769c3e\"},\"line_color\":{\"value\":null},\"radius\":{\"units\":\"data\",\"value\":45},\"x\":{\"value\":200},\"y\":{\"value\":100}},\"id\":\"1211\",\"type\":\"Circle\"},{\"attributes\":{},\"id\":\"1245\",\"type\":\"UnionRenderers\"},{\"attributes\":{\"callback\":null,\"end\":200},\"id\":\"1203\",\"type\":\"Range1d\"},{\"attributes\":{\"callback\":null,\"data\":{},\"selected\":{\"id\":\"1246\",\"type\":\"Selection\"},\"selection_policy\":{\"id\":\"1245\",\"type\":\"UnionRenderers\"}},\"id\":\"1212\",\"type\":\"ColumnDataSource\"},{\"attributes\":{},\"id\":\"1239\",\"type\":\"LinearScale\"},{\"attributes\":{\"callback\":null,\"end\":400},\"id\":\"1202\",\"type\":\"Range1d\"},{\"attributes\":{\"fill_color\":{\"value\":\"#de6993\"},\"line_color\":{\"value\":null},\"radius\":{\"units\":\"data\",\"value\":45},\"x\":{\"value\":50},\"y\":{\"value\":100}},\"id\":\"1207\",\"type\":\"Circle\"},{\"attributes\":{},\"id\":\"1244\",\"type\":\"Selection\"},{\"attributes\":{\"data_source\":{\"id\":\"1216\",\"type\":\"ColumnDataSource\"},\"glyph\":{\"id\":\"1215\",\"type\":\"Circle\"},\"hover_glyph\":null,\"muted_glyph\":null,\"view\":{\"id\":\"1218\",\"type\":\"CDSView\"}},\"id\":\"1217\",\"type\":\"GlyphRenderer\"},{\"attributes\":{},\"id\":\"1246\",\"type\":\"Selection\"},{\"attributes\":{\"active_drag\":\"auto\",\"active_inspect\":\"auto\",\"active_multi\":null,\"active_scroll\":\"auto\",\"active_tap\":\"auto\"},\"id\":\"1242\",\"type\":\"Toolbar\"}],\"root_ids\":[\"1204\"]},\"title\":\"Bokeh Application\",\"version\":\"1.4.0\"}};\n",
       "  var render_items = [{\"docid\":\"2ad7ec5d-77f9-4783-82ee-69d0d6254540\",\"roots\":{\"1204\":\"35435473-d3e2-4f33-9ccb-7c19863abdc5\"}}];\n",
       "  root.Bokeh.embed.embed_items_notebook(docs_json, render_items);\n",
       "\n",
       "  }\n",
       "  if (root.Bokeh !== undefined) {\n",
       "    embed_document(root);\n",
       "  } else {\n",
       "    var attempts = 0;\n",
       "    var timer = setInterval(function(root) {\n",
       "      if (root.Bokeh !== undefined) {\n",
       "        clearInterval(timer);\n",
       "        embed_document(root);\n",
       "      } else {\n",
       "        attempts++;\n",
       "        if (attempts > 100) {\n",
       "          clearInterval(timer);\n",
       "          console.log(\"Bokeh: ERROR: Unable to run BokehJS code because BokehJS library is missing\");\n",
       "        }\n",
       "      }\n",
       "    }, 10, root)\n",
       "  }\n",
       "})(window);"
      ],
      "application/vnd.bokehjs_exec.v0+json": ""
     },
     "metadata": {
      "application/vnd.bokehjs_exec.v0+json": {
       "id": "1204"
      }
     },
     "output_type": "display_data"
    }
   ],
   "source": [
    "print('# CIELab color space')\n",
    "for name, color in colors: print(f'{name}\\t{color.Lab()}')\n",
    "\n",
    "labs60 = [Lab(60, 50 * np.cos(theta), 50 * np.sin(theta))\n",
    "          for theta in np.linspace(0, 2 * pi, num=4)[:-1]]\n",
    "    \n",
    "p = plot()\n",
    "for lab, x in zip(labs60, xs):\n",
    "    p.add_glyph(Circle(x=x, y=100, radius=45, fill_color=lab.hex(), line_color=None))\n",
    "    print(lab)\n",
    "show(p)"
   ]
  },
  {
   "cell_type": "markdown",
   "metadata": {},
   "source": [
    "# 色差"
   ]
  },
  {
   "cell_type": "code",
   "execution_count": 6,
   "metadata": {},
   "outputs": [
    {
     "name": "stdout",
     "output_type": "stream",
     "text": [
      "# 明度\n",
      "白\t100.00\n",
      "赤\t53.24\n",
      "緑\t87.74\n",
      "青\t32.30\n",
      "\n",
      "# 白との色差\n",
      "白\t0.00\n",
      "赤\t45.81\n",
      "緑\t33.26\n",
      "青\t64.03\n",
      "\n",
      "# 黒との色差\n",
      "白\t100.00\n",
      "赤\t50.41\n",
      "緑\t87.86\n",
      "青\t39.68\n"
     ]
    }
   ],
   "source": [
    "(_, white), black = colors[0], sRGB(0, 0, 0)\n",
    "print('# 明度')\n",
    "for name, c in colors:\n",
    "    print(f'{name}\\t{c.Lab().lab_l:.2f}')\n",
    "\n",
    "print('\\n# 白との色差')\n",
    "for name, c in colors:\n",
    "    print(f'{name}\\t{c.delta(white):.2f}')\n",
    "print('\\n# 黒との色差')\n",
    "for name, c in colors:\n",
    "    print(f'{name}\\t{c.delta(black):.2f}')\n"
   ]
  },
  {
   "cell_type": "code",
   "execution_count": 7,
   "metadata": {},
   "outputs": [
    {
     "name": "stdout",
     "output_type": "stream",
     "text": [
      "# CIELab の場合\n",
      "赤-白\t37.32\n",
      "緑-白\t36.60\n",
      "青-白\t36.60\n",
      "\n",
      "赤-黒\t52.29\n",
      "緑-黒\t51.78\n",
      "青-黒\t51.78\n",
      "\n",
      "赤-緑\t59.35\n",
      "緑-青\t59.35\n",
      "青-赤\t59.35\n"
     ]
    }
   ],
   "source": [
    "print('# CIELab の場合')\n",
    "gray0, gray100 = Lab(1, 0, 0), Lab(100, 0, 0)\n",
    "\n",
    "for name, c in zip('赤 緑 青'.split(), labs60):\n",
    "    print(f'{name}-白\\t{c.delta(gray100):.2f}')\n",
    "print()\n",
    "for name, c in zip('赤 緑 青'.split(), labs60):\n",
    "    print(f'{name}-黒\\t{c.delta(gray0):.2f}')\n",
    "\n",
    "print(f'\\n赤-緑\\t{labs60[0].delta(labs60[1]):.2f}')\n",
    "print(f'緑-青\\t{labs60[0].delta(labs60[1]):.2f}')\n",
    "print(f'青-赤\\t{labs60[0].delta(labs60[1]):.2f}')"
   ]
  },
  {
   "cell_type": "code",
   "execution_count": 8,
   "metadata": {},
   "outputs": [
    {
     "data": {
      "application/vnd.bokehjs_exec.v0+json": "",
      "text/html": [
       "\n",
       "<script src=\"http://localhost:62086/autoload.js?bokeh-autoload-element=1317&bokeh-absolute-url=http://localhost:62086&resources=none\" id=\"1317\"></script>"
      ]
     },
     "metadata": {
      "application/vnd.bokehjs_exec.v0+json": {
       "server_id": "702b81c93ff242159aac07b733a2a28c"
      }
     },
     "output_type": "display_data"
    }
   ],
   "source": [
    "labs = labs60.copy()\n",
    "\n",
    "def CIELab_plot(doc):\n",
    "    p = plot()\n",
    "    circles = [Circle(x=x, y=100, radius=45, fill_color=lab.hex(), line_color=None)\n",
    "               for lab, x in zip(labs, xs)]\n",
    "\n",
    "    for circle in circles:\n",
    "        p.add_glyph(circle)\n",
    "    slider = Slider(start=0, end=100, step=1, value=60)\n",
    "    def update(v):\n",
    "        for i in range(len(circles)):\n",
    "            l, a, b = labs[i].values()\n",
    "            circles[i].fill_color = Lab(v, a, b).sRGB().clamp().hex()\n",
    "    slider.on_change('value', lambda _attr, _old, v: update(v))\n",
    "    text = Div(text='''L*値を高くしすぎると、sRGB空間では表現できない色が生成され、sRGB に変換したときに R/G/B が [0, 1] の範囲を外れます。\n",
    "    このような困った場合のために、一旦、sRGBに変換後、R/G/B 値を無理矢理 [0, 1] の範囲に収めているのが <code>clamp()</code> です。\n",
    "    この<code>clamp</code>処理は CIEL*a*b* で表現したのと異なる色が生成します。''')\n",
    "    layout = column([p, slider, text])\n",
    "    doc.add_root(layout)\n",
    "\n",
    "show(CIELab_plot)"
   ]
  },
  {
   "cell_type": "markdown",
   "metadata": {},
   "source": [
    "# 課題１\n",
    "\n",
    "sRGB 的なグレースケールは `sRGB(g, g, g)` $g \\in [0, 1]$ として与えられる。一方、CIEL*a*b* 的なグレースケールは `Lab(g, 0, 0)` $\\in [0, 100]$ として与えられる。\n",
    "\n",
    "- sRGB的なグレースケールとCIELab的なグレースケールを描画しなさい。\n",
    "\n",
    "    グレースケールは16個（あるいは17個）の矩形タイルを横に並べたものに黒から白に変化する色を塗り潰すことで実現する。グレースケールの左端は黒、右端は白とし、そのほかのタイルの色は白、黒のタイルからの距離に応じて各色空間で自然な線型補間を施して得られる色で着色すること。\n",
    "\n",
    "    タイルを塗り潰すには[Rect](https://docs.bokeh.org/en/latest/docs/reference/models/glyphs/rect.html) を使うとよい。\n",
    "\n",
    "    タイルの縁取りは邪魔なので除去すること。\n",
    "\n",
    "- 描画結果を目視、及び CIELab の色差のについて比較し、論じなさい。"
   ]
  },
  {
   "cell_type": "code",
   "execution_count": 9,
   "metadata": {},
   "outputs": [],
   "source": [
    "# 課題１についてのプログラム"
   ]
  },
  {
   "cell_type": "markdown",
   "metadata": {},
   "source": [
    "（課題１についての考察）"
   ]
  },
  {
   "cell_type": "markdown",
   "metadata": {},
   "source": [
    "# 課題２\n",
    "\n",
    "- sRGB 的に自然と思われる、黒→赤、黒→青に関する16階調二次元グラデーションを Bokeh を用いて描きなさい。\n",
    "    \n",
    "    $16x16$個のタイルを正方形に敷きつめたものについて、右下に赤、左下に黒、左上に青のタイルを配置し、赤-青の対角線から下のタイルたちに黒赤青の色を線型補間して彩色して得られる下三角行列様の結果が欲しい。\n",
    "    \n",
    "    タイルの縁取りは邪魔なので除去すること。\n",
    "\n",
    "- CIEL*a*b* 的に自然と思われる、同様の方法で16階調二次元グラデーションを Bokeh を用いて描きなさい。ただし、黒、赤、青は sRGB で利用した色を CIELab に変換したものを利用すること。CIELab の L-, a-, b-値は、`lab.values()` によって取得できる。\n",
    "\n",
    "- ふたつの出力を目視、及び CIELab 色差の計測にて比較論じなさい。"
   ]
  },
  {
   "cell_type": "code",
   "execution_count": 10,
   "metadata": {},
   "outputs": [],
   "source": [
    "# 課題２についてのプログラム"
   ]
  },
  {
   "cell_type": "markdown",
   "metadata": {},
   "source": [
    "（課題２についての考察）"
   ]
  },
  {
   "cell_type": "markdown",
   "metadata": {},
   "source": [
    "# 応用課題（やらなくてよい）\n",
    "\n",
    "課題２の結果を見て、CIELab の結果に少し失望したかもしれない。一部の領域で CIELab を用いたグラデーションが思ったほど良い結果でなかった理由を考察し、問題を明らかにしなさい。その上で、小さな工夫により満足のいく二次元グラデーションを作成しなさい。"
   ]
  },
  {
   "cell_type": "markdown",
   "metadata": {},
   "source": [
    "# 提出方法\n",
    "\n",
    "- 提出期限: 2/6\n",
    "\n",
    "- 提出先 (Dropbox file request) https://www.dropbox.com/request/eQuoLjmDihLRLsRWgWTB"
   ]
  },
  {
   "cell_type": "code",
   "execution_count": null,
   "metadata": {},
   "outputs": [],
   "source": []
  }
 ],
 "metadata": {
  "kernelspec": {
   "display_name": "Python 3",
   "language": "python",
   "name": "python3"
  },
  "language_info": {
   "codemirror_mode": {
    "name": "ipython",
    "version": 3
   },
   "file_extension": ".py",
   "mimetype": "text/x-python",
   "name": "python",
   "nbconvert_exporter": "python",
   "pygments_lexer": "ipython3",
   "version": "3.7.6"
  }
 },
 "nbformat": 4,
 "nbformat_minor": 4
}
