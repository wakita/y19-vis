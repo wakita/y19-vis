{
 "cells": [
  {
   "cell_type": "markdown",
   "metadata": {},
   "source": [
    "# Running a Bokeh Server"
   ]
  },
  {
   "cell_type": "code",
   "execution_count": 7,
   "metadata": {},
   "outputs": [],
   "source": [
    "from random import random\n",
    "\n",
    "from bokeh.layouts import gridplot\n",
    "from bokeh.models import *\n",
    "from bokeh.palettes import RdYlBu3\n",
    "from bokeh.plotting import figure, curdoc\n",
    "\n",
    "p = figure(x_range=(0, 100), y_range=(0, 100))\n",
    "p.background_fill_color = p.border_fill_color = 'black'\n",
    "p.outline_line_color = p.grid.grid_line_color = None\n",
    "\n",
    "r = p.text(x=[], y=[], text=[], text_color=[],\n",
    "           text_font_size='20pt',\n",
    "           text_baseline='middle', text_align='center')\n",
    "i = 0\n",
    "\n",
    "ds = r.data_source\n",
    "\n",
    "def callback():\n",
    "    global i\n",
    "    \n",
    "    d = dict()\n",
    "    d['x'] = ds.data['x'] + [random()*70 + 15]\n",
    "    d['y'] = ds.data['y'] + [random()*70 + 15]\n",
    "    d['text_color'] = ds.data['text_color'] + [RdYlBu3[i%3]]\n",
    "    d['text'] = ds.data['text'] + [str(i)]\n",
    "    ds.data = d\n",
    "    \n",
    "    i = i + 1\n",
    "\n",
    "button = Button(label='Press Me')\n",
    "button.on_click(callback)\n",
    "\n",
    "doc = curdoc()\n",
    "doc.template_variables[\"user_id\"] = 'kwakita'\n",
    "doc.template_variables.update(first_name='Ken', last_name='Wakita')\n",
    "\n",
    "doc.add_root(gridplot([[button, p]]))"
   ]
  },
  {
   "cell_type": "code",
   "execution_count": null,
   "metadata": {},
   "outputs": [],
   "source": []
  }
 ],
 "metadata": {
  "kernelspec": {
   "display_name": "Python 3",
   "language": "python",
   "name": "python3"
  },
  "language_info": {
   "codemirror_mode": {
    "name": "ipython",
    "version": 3
   },
   "file_extension": ".py",
   "mimetype": "text/x-python",
   "name": "python",
   "nbconvert_exporter": "python",
   "pygments_lexer": "ipython3",
   "version": "3.7.6"
  }
 },
 "nbformat": 4,
 "nbformat_minor": 4
}
