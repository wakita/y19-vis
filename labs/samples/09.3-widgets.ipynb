{
 "cells": [
  {
   "cell_type": "markdown",
   "metadata": {},
   "source": [
    "# Adding Widgets"
   ]
  },
  {
   "cell_type": "code",
   "execution_count": 27,
   "metadata": {},
   "outputs": [
    {
     "data": {
      "text/html": [
       "\n",
       "    <div class=\"bk-root\">\n",
       "        <a href=\"https://bokeh.org\" target=\"_blank\" class=\"bk-logo bk-logo-small bk-logo-notebook\"></a>\n",
       "        <span id=\"1525\">Loading BokehJS ...</span>\n",
       "    </div>"
      ]
     },
     "metadata": {},
     "output_type": "display_data"
    },
    {
     "data": {
      "application/javascript": [
       "\n",
       "(function(root) {\n",
       "  function now() {\n",
       "    return new Date();\n",
       "  }\n",
       "\n",
       "  var force = true;\n",
       "\n",
       "  if (typeof root._bokeh_onload_callbacks === \"undefined\" || force === true) {\n",
       "    root._bokeh_onload_callbacks = [];\n",
       "    root._bokeh_is_loading = undefined;\n",
       "  }\n",
       "\n",
       "  var JS_MIME_TYPE = 'application/javascript';\n",
       "  var HTML_MIME_TYPE = 'text/html';\n",
       "  var EXEC_MIME_TYPE = 'application/vnd.bokehjs_exec.v0+json';\n",
       "  var CLASS_NAME = 'output_bokeh rendered_html';\n",
       "\n",
       "  /**\n",
       "   * Render data to the DOM node\n",
       "   */\n",
       "  function render(props, node) {\n",
       "    var script = document.createElement(\"script\");\n",
       "    node.appendChild(script);\n",
       "  }\n",
       "\n",
       "  /**\n",
       "   * Handle when an output is cleared or removed\n",
       "   */\n",
       "  function handleClearOutput(event, handle) {\n",
       "    var cell = handle.cell;\n",
       "\n",
       "    var id = cell.output_area._bokeh_element_id;\n",
       "    var server_id = cell.output_area._bokeh_server_id;\n",
       "    // Clean up Bokeh references\n",
       "    if (id != null && id in Bokeh.index) {\n",
       "      Bokeh.index[id].model.document.clear();\n",
       "      delete Bokeh.index[id];\n",
       "    }\n",
       "\n",
       "    if (server_id !== undefined) {\n",
       "      // Clean up Bokeh references\n",
       "      var cmd = \"from bokeh.io.state import curstate; print(curstate().uuid_to_server['\" + server_id + \"'].get_sessions()[0].document.roots[0]._id)\";\n",
       "      cell.notebook.kernel.execute(cmd, {\n",
       "        iopub: {\n",
       "          output: function(msg) {\n",
       "            var id = msg.content.text.trim();\n",
       "            if (id in Bokeh.index) {\n",
       "              Bokeh.index[id].model.document.clear();\n",
       "              delete Bokeh.index[id];\n",
       "            }\n",
       "          }\n",
       "        }\n",
       "      });\n",
       "      // Destroy server and session\n",
       "      var cmd = \"import bokeh.io.notebook as ion; ion.destroy_server('\" + server_id + \"')\";\n",
       "      cell.notebook.kernel.execute(cmd);\n",
       "    }\n",
       "  }\n",
       "\n",
       "  /**\n",
       "   * Handle when a new output is added\n",
       "   */\n",
       "  function handleAddOutput(event, handle) {\n",
       "    var output_area = handle.output_area;\n",
       "    var output = handle.output;\n",
       "\n",
       "    // limit handleAddOutput to display_data with EXEC_MIME_TYPE content only\n",
       "    if ((output.output_type != \"display_data\") || (!output.data.hasOwnProperty(EXEC_MIME_TYPE))) {\n",
       "      return\n",
       "    }\n",
       "\n",
       "    var toinsert = output_area.element.find(\".\" + CLASS_NAME.split(' ')[0]);\n",
       "\n",
       "    if (output.metadata[EXEC_MIME_TYPE][\"id\"] !== undefined) {\n",
       "      toinsert[toinsert.length - 1].firstChild.textContent = output.data[JS_MIME_TYPE];\n",
       "      // store reference to embed id on output_area\n",
       "      output_area._bokeh_element_id = output.metadata[EXEC_MIME_TYPE][\"id\"];\n",
       "    }\n",
       "    if (output.metadata[EXEC_MIME_TYPE][\"server_id\"] !== undefined) {\n",
       "      var bk_div = document.createElement(\"div\");\n",
       "      bk_div.innerHTML = output.data[HTML_MIME_TYPE];\n",
       "      var script_attrs = bk_div.children[0].attributes;\n",
       "      for (var i = 0; i < script_attrs.length; i++) {\n",
       "        toinsert[toinsert.length - 1].firstChild.setAttribute(script_attrs[i].name, script_attrs[i].value);\n",
       "      }\n",
       "      // store reference to server id on output_area\n",
       "      output_area._bokeh_server_id = output.metadata[EXEC_MIME_TYPE][\"server_id\"];\n",
       "    }\n",
       "  }\n",
       "\n",
       "  function register_renderer(events, OutputArea) {\n",
       "\n",
       "    function append_mime(data, metadata, element) {\n",
       "      // create a DOM node to render to\n",
       "      var toinsert = this.create_output_subarea(\n",
       "        metadata,\n",
       "        CLASS_NAME,\n",
       "        EXEC_MIME_TYPE\n",
       "      );\n",
       "      this.keyboard_manager.register_events(toinsert);\n",
       "      // Render to node\n",
       "      var props = {data: data, metadata: metadata[EXEC_MIME_TYPE]};\n",
       "      render(props, toinsert[toinsert.length - 1]);\n",
       "      element.append(toinsert);\n",
       "      return toinsert\n",
       "    }\n",
       "\n",
       "    /* Handle when an output is cleared or removed */\n",
       "    events.on('clear_output.CodeCell', handleClearOutput);\n",
       "    events.on('delete.Cell', handleClearOutput);\n",
       "\n",
       "    /* Handle when a new output is added */\n",
       "    events.on('output_added.OutputArea', handleAddOutput);\n",
       "\n",
       "    /**\n",
       "     * Register the mime type and append_mime function with output_area\n",
       "     */\n",
       "    OutputArea.prototype.register_mime_type(EXEC_MIME_TYPE, append_mime, {\n",
       "      /* Is output safe? */\n",
       "      safe: true,\n",
       "      /* Index of renderer in `output_area.display_order` */\n",
       "      index: 0\n",
       "    });\n",
       "  }\n",
       "\n",
       "  // register the mime type if in Jupyter Notebook environment and previously unregistered\n",
       "  if (root.Jupyter !== undefined) {\n",
       "    var events = require('base/js/events');\n",
       "    var OutputArea = require('notebook/js/outputarea').OutputArea;\n",
       "\n",
       "    if (OutputArea.prototype.mime_types().indexOf(EXEC_MIME_TYPE) == -1) {\n",
       "      register_renderer(events, OutputArea);\n",
       "    }\n",
       "  }\n",
       "\n",
       "  \n",
       "  if (typeof (root._bokeh_timeout) === \"undefined\" || force === true) {\n",
       "    root._bokeh_timeout = Date.now() + 5000;\n",
       "    root._bokeh_failed_load = false;\n",
       "  }\n",
       "\n",
       "  var NB_LOAD_WARNING = {'data': {'text/html':\n",
       "     \"<div style='background-color: #fdd'>\\n\"+\n",
       "     \"<p>\\n\"+\n",
       "     \"BokehJS does not appear to have successfully loaded. If loading BokehJS from CDN, this \\n\"+\n",
       "     \"may be due to a slow or bad network connection. Possible fixes:\\n\"+\n",
       "     \"</p>\\n\"+\n",
       "     \"<ul>\\n\"+\n",
       "     \"<li>re-rerun `output_notebook()` to attempt to load from CDN again, or</li>\\n\"+\n",
       "     \"<li>use INLINE resources instead, as so:</li>\\n\"+\n",
       "     \"</ul>\\n\"+\n",
       "     \"<code>\\n\"+\n",
       "     \"from bokeh.resources import INLINE\\n\"+\n",
       "     \"output_notebook(resources=INLINE)\\n\"+\n",
       "     \"</code>\\n\"+\n",
       "     \"</div>\"}};\n",
       "\n",
       "  function display_loaded() {\n",
       "    var el = document.getElementById(\"1525\");\n",
       "    if (el != null) {\n",
       "      el.textContent = \"BokehJS is loading...\";\n",
       "    }\n",
       "    if (root.Bokeh !== undefined) {\n",
       "      if (el != null) {\n",
       "        el.textContent = \"BokehJS \" + root.Bokeh.version + \" successfully loaded.\";\n",
       "      }\n",
       "    } else if (Date.now() < root._bokeh_timeout) {\n",
       "      setTimeout(display_loaded, 100)\n",
       "    }\n",
       "  }\n",
       "\n",
       "\n",
       "  function run_callbacks() {\n",
       "    try {\n",
       "      root._bokeh_onload_callbacks.forEach(function(callback) {\n",
       "        if (callback != null)\n",
       "          callback();\n",
       "      });\n",
       "    } finally {\n",
       "      delete root._bokeh_onload_callbacks\n",
       "    }\n",
       "    console.debug(\"Bokeh: all callbacks have finished\");\n",
       "  }\n",
       "\n",
       "  function load_libs(css_urls, js_urls, callback) {\n",
       "    if (css_urls == null) css_urls = [];\n",
       "    if (js_urls == null) js_urls = [];\n",
       "\n",
       "    root._bokeh_onload_callbacks.push(callback);\n",
       "    if (root._bokeh_is_loading > 0) {\n",
       "      console.debug(\"Bokeh: BokehJS is being loaded, scheduling callback at\", now());\n",
       "      return null;\n",
       "    }\n",
       "    if (js_urls == null || js_urls.length === 0) {\n",
       "      run_callbacks();\n",
       "      return null;\n",
       "    }\n",
       "    console.debug(\"Bokeh: BokehJS not loaded, scheduling load and callback at\", now());\n",
       "    root._bokeh_is_loading = css_urls.length + js_urls.length;\n",
       "\n",
       "    function on_load() {\n",
       "      root._bokeh_is_loading--;\n",
       "      if (root._bokeh_is_loading === 0) {\n",
       "        console.debug(\"Bokeh: all BokehJS libraries/stylesheets loaded\");\n",
       "        run_callbacks()\n",
       "      }\n",
       "    }\n",
       "\n",
       "    function on_error() {\n",
       "      console.error(\"failed to load \" + url);\n",
       "    }\n",
       "\n",
       "    for (var i = 0; i < css_urls.length; i++) {\n",
       "      var url = css_urls[i];\n",
       "      const element = document.createElement(\"link\");\n",
       "      element.onload = on_load;\n",
       "      element.onerror = on_error;\n",
       "      element.rel = \"stylesheet\";\n",
       "      element.type = \"text/css\";\n",
       "      element.href = url;\n",
       "      console.debug(\"Bokeh: injecting link tag for BokehJS stylesheet: \", url);\n",
       "      document.body.appendChild(element);\n",
       "    }\n",
       "\n",
       "    for (var i = 0; i < js_urls.length; i++) {\n",
       "      var url = js_urls[i];\n",
       "      var element = document.createElement('script');\n",
       "      element.onload = on_load;\n",
       "      element.onerror = on_error;\n",
       "      element.async = false;\n",
       "      element.src = url;\n",
       "      console.debug(\"Bokeh: injecting script tag for BokehJS library: \", url);\n",
       "      document.head.appendChild(element);\n",
       "    }\n",
       "  };var element = document.getElementById(\"1525\");\n",
       "  if (element == null) {\n",
       "    console.error(\"Bokeh: ERROR: autoload.js configured with elementid '1525' but no matching script tag was found. \")\n",
       "    return false;\n",
       "  }\n",
       "\n",
       "  function inject_raw_css(css) {\n",
       "    const element = document.createElement(\"style\");\n",
       "    element.appendChild(document.createTextNode(css));\n",
       "    document.body.appendChild(element);\n",
       "  }\n",
       "\n",
       "  \n",
       "  var js_urls = [\"https://cdn.pydata.org/bokeh/release/bokeh-1.4.0.min.js\", \"https://cdn.pydata.org/bokeh/release/bokeh-widgets-1.4.0.min.js\", \"https://cdn.pydata.org/bokeh/release/bokeh-tables-1.4.0.min.js\", \"https://cdn.pydata.org/bokeh/release/bokeh-gl-1.4.0.min.js\"];\n",
       "  var css_urls = [];\n",
       "  \n",
       "\n",
       "  var inline_js = [\n",
       "    function(Bokeh) {\n",
       "      Bokeh.set_log_level(\"info\");\n",
       "    },\n",
       "    function(Bokeh) {\n",
       "    \n",
       "    \n",
       "    }\n",
       "  ];\n",
       "\n",
       "  function run_inline_js() {\n",
       "    \n",
       "    if (root.Bokeh !== undefined || force === true) {\n",
       "      \n",
       "    for (var i = 0; i < inline_js.length; i++) {\n",
       "      inline_js[i].call(root, root.Bokeh);\n",
       "    }\n",
       "    if (force === true) {\n",
       "        display_loaded();\n",
       "      }} else if (Date.now() < root._bokeh_timeout) {\n",
       "      setTimeout(run_inline_js, 100);\n",
       "    } else if (!root._bokeh_failed_load) {\n",
       "      console.log(\"Bokeh: BokehJS failed to load within specified timeout.\");\n",
       "      root._bokeh_failed_load = true;\n",
       "    } else if (force !== true) {\n",
       "      var cell = $(document.getElementById(\"1525\")).parents('.cell').data().cell;\n",
       "      cell.output_area.append_execute_result(NB_LOAD_WARNING)\n",
       "    }\n",
       "\n",
       "  }\n",
       "\n",
       "  if (root._bokeh_is_loading === 0) {\n",
       "    console.debug(\"Bokeh: BokehJS loaded, going straight to plotting\");\n",
       "    run_inline_js();\n",
       "  } else {\n",
       "    load_libs(css_urls, js_urls, function() {\n",
       "      console.debug(\"Bokeh: BokehJS plotting callback run at\", now());\n",
       "      run_inline_js();\n",
       "    });\n",
       "  }\n",
       "}(window));"
      ],
      "application/vnd.bokehjs_load.v0+json": "\n(function(root) {\n  function now() {\n    return new Date();\n  }\n\n  var force = true;\n\n  if (typeof root._bokeh_onload_callbacks === \"undefined\" || force === true) {\n    root._bokeh_onload_callbacks = [];\n    root._bokeh_is_loading = undefined;\n  }\n\n  \n\n  \n  if (typeof (root._bokeh_timeout) === \"undefined\" || force === true) {\n    root._bokeh_timeout = Date.now() + 5000;\n    root._bokeh_failed_load = false;\n  }\n\n  var NB_LOAD_WARNING = {'data': {'text/html':\n     \"<div style='background-color: #fdd'>\\n\"+\n     \"<p>\\n\"+\n     \"BokehJS does not appear to have successfully loaded. If loading BokehJS from CDN, this \\n\"+\n     \"may be due to a slow or bad network connection. Possible fixes:\\n\"+\n     \"</p>\\n\"+\n     \"<ul>\\n\"+\n     \"<li>re-rerun `output_notebook()` to attempt to load from CDN again, or</li>\\n\"+\n     \"<li>use INLINE resources instead, as so:</li>\\n\"+\n     \"</ul>\\n\"+\n     \"<code>\\n\"+\n     \"from bokeh.resources import INLINE\\n\"+\n     \"output_notebook(resources=INLINE)\\n\"+\n     \"</code>\\n\"+\n     \"</div>\"}};\n\n  function display_loaded() {\n    var el = document.getElementById(\"1525\");\n    if (el != null) {\n      el.textContent = \"BokehJS is loading...\";\n    }\n    if (root.Bokeh !== undefined) {\n      if (el != null) {\n        el.textContent = \"BokehJS \" + root.Bokeh.version + \" successfully loaded.\";\n      }\n    } else if (Date.now() < root._bokeh_timeout) {\n      setTimeout(display_loaded, 100)\n    }\n  }\n\n\n  function run_callbacks() {\n    try {\n      root._bokeh_onload_callbacks.forEach(function(callback) {\n        if (callback != null)\n          callback();\n      });\n    } finally {\n      delete root._bokeh_onload_callbacks\n    }\n    console.debug(\"Bokeh: all callbacks have finished\");\n  }\n\n  function load_libs(css_urls, js_urls, callback) {\n    if (css_urls == null) css_urls = [];\n    if (js_urls == null) js_urls = [];\n\n    root._bokeh_onload_callbacks.push(callback);\n    if (root._bokeh_is_loading > 0) {\n      console.debug(\"Bokeh: BokehJS is being loaded, scheduling callback at\", now());\n      return null;\n    }\n    if (js_urls == null || js_urls.length === 0) {\n      run_callbacks();\n      return null;\n    }\n    console.debug(\"Bokeh: BokehJS not loaded, scheduling load and callback at\", now());\n    root._bokeh_is_loading = css_urls.length + js_urls.length;\n\n    function on_load() {\n      root._bokeh_is_loading--;\n      if (root._bokeh_is_loading === 0) {\n        console.debug(\"Bokeh: all BokehJS libraries/stylesheets loaded\");\n        run_callbacks()\n      }\n    }\n\n    function on_error() {\n      console.error(\"failed to load \" + url);\n    }\n\n    for (var i = 0; i < css_urls.length; i++) {\n      var url = css_urls[i];\n      const element = document.createElement(\"link\");\n      element.onload = on_load;\n      element.onerror = on_error;\n      element.rel = \"stylesheet\";\n      element.type = \"text/css\";\n      element.href = url;\n      console.debug(\"Bokeh: injecting link tag for BokehJS stylesheet: \", url);\n      document.body.appendChild(element);\n    }\n\n    for (var i = 0; i < js_urls.length; i++) {\n      var url = js_urls[i];\n      var element = document.createElement('script');\n      element.onload = on_load;\n      element.onerror = on_error;\n      element.async = false;\n      element.src = url;\n      console.debug(\"Bokeh: injecting script tag for BokehJS library: \", url);\n      document.head.appendChild(element);\n    }\n  };var element = document.getElementById(\"1525\");\n  if (element == null) {\n    console.error(\"Bokeh: ERROR: autoload.js configured with elementid '1525' but no matching script tag was found. \")\n    return false;\n  }\n\n  function inject_raw_css(css) {\n    const element = document.createElement(\"style\");\n    element.appendChild(document.createTextNode(css));\n    document.body.appendChild(element);\n  }\n\n  \n  var js_urls = [\"https://cdn.pydata.org/bokeh/release/bokeh-1.4.0.min.js\", \"https://cdn.pydata.org/bokeh/release/bokeh-widgets-1.4.0.min.js\", \"https://cdn.pydata.org/bokeh/release/bokeh-tables-1.4.0.min.js\", \"https://cdn.pydata.org/bokeh/release/bokeh-gl-1.4.0.min.js\"];\n  var css_urls = [];\n  \n\n  var inline_js = [\n    function(Bokeh) {\n      Bokeh.set_log_level(\"info\");\n    },\n    function(Bokeh) {\n    \n    \n    }\n  ];\n\n  function run_inline_js() {\n    \n    if (root.Bokeh !== undefined || force === true) {\n      \n    for (var i = 0; i < inline_js.length; i++) {\n      inline_js[i].call(root, root.Bokeh);\n    }\n    if (force === true) {\n        display_loaded();\n      }} else if (Date.now() < root._bokeh_timeout) {\n      setTimeout(run_inline_js, 100);\n    } else if (!root._bokeh_failed_load) {\n      console.log(\"Bokeh: BokehJS failed to load within specified timeout.\");\n      root._bokeh_failed_load = true;\n    } else if (force !== true) {\n      var cell = $(document.getElementById(\"1525\")).parents('.cell').data().cell;\n      cell.output_area.append_execute_result(NB_LOAD_WARNING)\n    }\n\n  }\n\n  if (root._bokeh_is_loading === 0) {\n    console.debug(\"Bokeh: BokehJS loaded, going straight to plotting\");\n    run_inline_js();\n  } else {\n    load_libs(css_urls, js_urls, function() {\n      console.debug(\"Bokeh: BokehJS plotting callback run at\", now());\n      run_inline_js();\n    });\n  }\n}(window));"
     },
     "metadata": {},
     "output_type": "display_data"
    }
   ],
   "source": [
    "from bokeh.io import output_notebook, show\n",
    "from bokeh.models import *\n",
    "from bokeh.layouts import *\n",
    "#from bokeh.models.widgets import *\n",
    "\n",
    "output_notebook()"
   ]
  },
  {
   "cell_type": "code",
   "execution_count": 86,
   "metadata": {},
   "outputs": [
    {
     "data": {
      "application/vnd.bokehjs_exec.v0+json": "",
      "text/html": [
       "\n",
       "<script src=\"http://localhost:60064/autoload.js?bokeh-autoload-element=3457&bokeh-absolute-url=http://localhost:60064&resources=none\" id=\"3457\"></script>"
      ]
     },
     "metadata": {
      "application/vnd.bokehjs_exec.v0+json": {
       "server_id": "651c253bd8b5452c8813badcd70d6d22"
      }
     },
     "output_type": "display_data"
    }
   ],
   "source": [
    "def plot(doc):\n",
    "    def my_text_input_handler(attr, old, v):\n",
    "        print(\"Updated label: \" + v)\n",
    "\n",
    "    text_input = TextInput(value=\"default\", title=\"Label:\", sizing_mode='stretch_both')\n",
    "    text_input.on_change(\"value\", my_text_input_handler)\n",
    "    doc.add_root(text_input)\n",
    "\n",
    "show(plot)"
   ]
  },
  {
   "cell_type": "code",
   "execution_count": 3,
   "metadata": {},
   "outputs": [
    {
     "data": {
      "application/vnd.bokehjs_exec.v0+json": "",
      "text/html": [
       "\n",
       "<script src=\"http://localhost:57503/autoload.js?bokeh-autoload-element=1006&bokeh-absolute-url=http://localhost:57503&resources=none\" id=\"1006\"></script>"
      ]
     },
     "metadata": {
      "application/vnd.bokehjs_exec.v0+json": {
       "server_id": "c23568c5fad54b5e8691b9bdf59a6cde"
      }
     },
     "output_type": "display_data"
    }
   ],
   "source": [
    "def plot(doc):\n",
    "    def radio_handler(v):\n",
    "        print(f'Radio button option {v} selected.')\n",
    "        \n",
    "    radio_group = RadioGroup(labels='Option 1,Option 2,Option 3'.split(','), active=0)\n",
    "    radio_group.on_click(radio_handler)\n",
    "    doc.add_root(radio_group)\n",
    "\n",
    "show(plot)"
   ]
  },
  {
   "cell_type": "markdown",
   "metadata": {},
   "source": [
    "## Button"
   ]
  },
  {
   "cell_type": "code",
   "execution_count": 84,
   "metadata": {},
   "outputs": [
    {
     "data": {
      "text/html": [
       "\n",
       "\n",
       "\n",
       "\n",
       "\n",
       "\n",
       "  <div class=\"bk-root\" id=\"8ca767ac-c231-4c92-bf04-344518f5e382\" data-root-id=\"3390\"></div>\n"
      ]
     },
     "metadata": {},
     "output_type": "display_data"
    },
    {
     "data": {
      "application/javascript": [
       "(function(root) {\n",
       "  function embed_document(root) {\n",
       "    \n",
       "  var docs_json = {\"b029c8a1-ad3d-45cc-a357-a68af4c1a1a1\":{\"roots\":{\"references\":[{\"attributes\":{\"button_type\":\"success\",\"callback\":null,\"icon\":null,\"label\":\"Foo\",\"sizing_mode\":\"stretch_both\"},\"id\":\"3390\",\"type\":\"Button\"}],\"root_ids\":[\"3390\"]},\"title\":\"Bokeh Application\",\"version\":\"1.4.0\"}};\n",
       "  var render_items = [{\"docid\":\"b029c8a1-ad3d-45cc-a357-a68af4c1a1a1\",\"roots\":{\"3390\":\"8ca767ac-c231-4c92-bf04-344518f5e382\"}}];\n",
       "  root.Bokeh.embed.embed_items_notebook(docs_json, render_items);\n",
       "\n",
       "  }\n",
       "  if (root.Bokeh !== undefined) {\n",
       "    embed_document(root);\n",
       "  } else {\n",
       "    var attempts = 0;\n",
       "    var timer = setInterval(function(root) {\n",
       "      if (root.Bokeh !== undefined) {\n",
       "        clearInterval(timer);\n",
       "        embed_document(root);\n",
       "      } else {\n",
       "        attempts++;\n",
       "        if (attempts > 100) {\n",
       "          clearInterval(timer);\n",
       "          console.log(\"Bokeh: ERROR: Unable to run BokehJS code because BokehJS library is missing\");\n",
       "        }\n",
       "      }\n",
       "    }, 10, root)\n",
       "  }\n",
       "})(window);"
      ],
      "application/vnd.bokehjs_exec.v0+json": ""
     },
     "metadata": {
      "application/vnd.bokehjs_exec.v0+json": {
       "id": "3390"
      }
     },
     "output_type": "display_data"
    }
   ],
   "source": [
    "show(Button(label='Foo', button_type='success', sizing_mode='stretch_both'))"
   ]
  },
  {
   "cell_type": "code",
   "execution_count": 83,
   "metadata": {},
   "outputs": [
    {
     "data": {
      "text/html": [
       "\n",
       "\n",
       "\n",
       "\n",
       "\n",
       "\n",
       "  <div class=\"bk-root\" id=\"c019fcd0-cdd3-474f-95a0-cdfd32b7115f\" data-root-id=\"3325\"></div>\n"
      ]
     },
     "metadata": {},
     "output_type": "display_data"
    },
    {
     "data": {
      "application/javascript": [
       "(function(root) {\n",
       "  function embed_document(root) {\n",
       "    \n",
       "  var docs_json = {\"26141e24-ea2c-4af2-8fd6-cd3d16501256\":{\"roots\":{\"references\":[{\"attributes\":{\"active\":[0,1],\"callback\":null,\"labels\":[\"Option 1\",\"Option 2\",\"Option3\"],\"sizing_mode\":\"stretch_width\"},\"id\":\"3325\",\"type\":\"CheckboxButtonGroup\"}],\"root_ids\":[\"3325\"]},\"title\":\"Bokeh Application\",\"version\":\"1.4.0\"}};\n",
       "  var render_items = [{\"docid\":\"26141e24-ea2c-4af2-8fd6-cd3d16501256\",\"roots\":{\"3325\":\"c019fcd0-cdd3-474f-95a0-cdfd32b7115f\"}}];\n",
       "  root.Bokeh.embed.embed_items_notebook(docs_json, render_items);\n",
       "\n",
       "  }\n",
       "  if (root.Bokeh !== undefined) {\n",
       "    embed_document(root);\n",
       "  } else {\n",
       "    var attempts = 0;\n",
       "    var timer = setInterval(function(root) {\n",
       "      if (root.Bokeh !== undefined) {\n",
       "        clearInterval(timer);\n",
       "        embed_document(root);\n",
       "      } else {\n",
       "        attempts++;\n",
       "        if (attempts > 100) {\n",
       "          clearInterval(timer);\n",
       "          console.log(\"Bokeh: ERROR: Unable to run BokehJS code because BokehJS library is missing\");\n",
       "        }\n",
       "      }\n",
       "    }, 10, root)\n",
       "  }\n",
       "})(window);"
      ],
      "application/vnd.bokehjs_exec.v0+json": ""
     },
     "metadata": {
      "application/vnd.bokehjs_exec.v0+json": {
       "id": "3325"
      }
     },
     "output_type": "display_data"
    }
   ],
   "source": [
    "from bokeh.models.widgets import CheckboxButtonGroup\n",
    "\n",
    "show(CheckboxButtonGroup(labels='Option 1,Option 2,Option3'.split(','), active=[0, 1],\n",
    "                         sizing_mode='stretch_width'))"
   ]
  },
  {
   "cell_type": "code",
   "execution_count": 98,
   "metadata": {},
   "outputs": [
    {
     "data": {
      "text/html": [
       "\n",
       "\n",
       "\n",
       "\n",
       "\n",
       "\n",
       "  <div class=\"bk-root\" id=\"b9e94c83-9ff3-42a1-bd51-82a5b746332b\" data-root-id=\"3709\"></div>\n"
      ]
     },
     "metadata": {},
     "output_type": "display_data"
    },
    {
     "data": {
      "application/javascript": [
       "(function(root) {\n",
       "  function embed_document(root) {\n",
       "    \n",
       "  var docs_json = {\"544c0923-0a18-4f6d-91d0-cd4d4dc132d9\":{\"roots\":{\"references\":[{\"attributes\":{\"active\":[0,1],\"callback\":null,\"labels\":[\"Option 1\",\"Option 2\",\"Option 3\"]},\"id\":\"3709\",\"type\":\"CheckboxGroup\"}],\"root_ids\":[\"3709\"]},\"title\":\"Bokeh Application\",\"version\":\"1.4.0\"}};\n",
       "  var render_items = [{\"docid\":\"544c0923-0a18-4f6d-91d0-cd4d4dc132d9\",\"roots\":{\"3709\":\"b9e94c83-9ff3-42a1-bd51-82a5b746332b\"}}];\n",
       "  root.Bokeh.embed.embed_items_notebook(docs_json, render_items);\n",
       "\n",
       "  }\n",
       "  if (root.Bokeh !== undefined) {\n",
       "    embed_document(root);\n",
       "  } else {\n",
       "    var attempts = 0;\n",
       "    var timer = setInterval(function(root) {\n",
       "      if (root.Bokeh !== undefined) {\n",
       "        clearInterval(timer);\n",
       "        embed_document(root);\n",
       "      } else {\n",
       "        attempts++;\n",
       "        if (attempts > 100) {\n",
       "          clearInterval(timer);\n",
       "          console.log(\"Bokeh: ERROR: Unable to run BokehJS code because BokehJS library is missing\");\n",
       "        }\n",
       "      }\n",
       "    }, 10, root)\n",
       "  }\n",
       "})(window);"
      ],
      "application/vnd.bokehjs_exec.v0+json": ""
     },
     "metadata": {
      "application/vnd.bokehjs_exec.v0+json": {
       "id": "3709"
      }
     },
     "output_type": "display_data"
    }
   ],
   "source": [
    "show(CheckboxGroup(labels='Option 1,Option 2,Option 3'.split(','), active=[0, 1]))"
   ]
  },
  {
   "cell_type": "code",
   "execution_count": 97,
   "metadata": {},
   "outputs": [
    {
     "data": {
      "application/vnd.bokehjs_exec.v0+json": "",
      "text/html": [
       "\n",
       "<script src=\"http://localhost:60191/autoload.js?bokeh-autoload-element=3705&bokeh-absolute-url=http://localhost:60191&resources=none\" id=\"3705\"></script>"
      ]
     },
     "metadata": {
      "application/vnd.bokehjs_exec.v0+json": {
       "server_id": "f031e8d153c1416cb9b7ebbc70967a3e"
      }
     },
     "output_type": "display_data"
    }
   ],
   "source": [
    "def plot(doc):\n",
    "    colorpicker = ColorPicker(title=\"Choose color:\", color=\"#ff4466\", width=100, height=100)\n",
    "    colorpicker.on_change('color', lambda x, y, v: print(v))\n",
    "    doc.add_root(colorpicker)\n",
    "\n",
    "show(plot)"
   ]
  },
  {
   "cell_type": "code",
   "execution_count": 82,
   "metadata": {},
   "outputs": [
    {
     "data": {
      "text/html": [
       "\n",
       "\n",
       "\n",
       "\n",
       "\n",
       "\n",
       "  <div class=\"bk-root\" id=\"ea2c88d4-0293-4187-9be2-e841c93229ee\" data-root-id=\"3234\"></div>\n"
      ]
     },
     "metadata": {},
     "output_type": "display_data"
    },
    {
     "data": {
      "application/javascript": [
       "(function(root) {\n",
       "  function embed_document(root) {\n",
       "    \n",
       "  var docs_json = {\"4b9de314-8c0d-4527-ad1d-44423f4b201e\":{\"roots\":{\"references\":[{\"attributes\":{\"columns\":[{\"id\":\"3231\",\"type\":\"TableColumn\"},{\"id\":\"3233\",\"type\":\"TableColumn\"}],\"height\":280,\"sizing_mode\":\"stretch_width\",\"source\":{\"id\":\"3229\",\"type\":\"ColumnDataSource\"},\"view\":{\"id\":\"3235\",\"type\":\"CDSView\"},\"width\":400},\"id\":\"3234\",\"type\":\"DataTable\"},{\"attributes\":{\"editor\":{\"id\":\"3295\",\"type\":\"StringEditor\"},\"field\":\"dates\",\"formatter\":{\"id\":\"3230\",\"type\":\"DateFormatter\"},\"title\":\"Date\"},\"id\":\"3231\",\"type\":\"TableColumn\"},{\"attributes\":{},\"id\":\"3297\",\"type\":\"StringFormatter\"},{\"attributes\":{},\"id\":\"3299\",\"type\":\"Selection\"},{\"attributes\":{\"callback\":null,\"data\":{\"dates\":[1393632000000.0,1393718400000.0,1393804800000.0,1393891200000.0,1393977600000.0,1394064000000.0,1394150400000.0,1394236800000.0,1394323200000.0,1394409600000.0],\"downloads\":[78,100,87,85,77,83,94,22,80,27]},\"selected\":{\"id\":\"3299\",\"type\":\"Selection\"},\"selection_policy\":{\"id\":\"3298\",\"type\":\"UnionRenderers\"}},\"id\":\"3229\",\"type\":\"ColumnDataSource\"},{\"attributes\":{},\"id\":\"3230\",\"type\":\"DateFormatter\"},{\"attributes\":{\"editor\":{\"id\":\"3296\",\"type\":\"StringEditor\"},\"field\":\"downloads\",\"formatter\":{\"id\":\"3297\",\"type\":\"StringFormatter\"},\"title\":\"Downloads\"},\"id\":\"3233\",\"type\":\"TableColumn\"},{\"attributes\":{},\"id\":\"3298\",\"type\":\"UnionRenderers\"},{\"attributes\":{},\"id\":\"3295\",\"type\":\"StringEditor\"},{\"attributes\":{},\"id\":\"3296\",\"type\":\"StringEditor\"},{\"attributes\":{\"source\":{\"id\":\"3229\",\"type\":\"ColumnDataSource\"}},\"id\":\"3235\",\"type\":\"CDSView\"}],\"root_ids\":[\"3234\"]},\"title\":\"Bokeh Application\",\"version\":\"1.4.0\"}};\n",
       "  var render_items = [{\"docid\":\"4b9de314-8c0d-4527-ad1d-44423f4b201e\",\"roots\":{\"3234\":\"ea2c88d4-0293-4187-9be2-e841c93229ee\"}}];\n",
       "  root.Bokeh.embed.embed_items_notebook(docs_json, render_items);\n",
       "\n",
       "  }\n",
       "  if (root.Bokeh !== undefined) {\n",
       "    embed_document(root);\n",
       "  } else {\n",
       "    var attempts = 0;\n",
       "    var timer = setInterval(function(root) {\n",
       "      if (root.Bokeh !== undefined) {\n",
       "        clearInterval(timer);\n",
       "        embed_document(root);\n",
       "      } else {\n",
       "        attempts++;\n",
       "        if (attempts > 100) {\n",
       "          clearInterval(timer);\n",
       "          console.log(\"Bokeh: ERROR: Unable to run BokehJS code because BokehJS library is missing\");\n",
       "        }\n",
       "      }\n",
       "    }, 10, root)\n",
       "  }\n",
       "})(window);"
      ],
      "application/vnd.bokehjs_exec.v0+json": ""
     },
     "metadata": {
      "application/vnd.bokehjs_exec.v0+json": {
       "id": "3234"
      }
     },
     "output_type": "display_data"
    }
   ],
   "source": [
    "from datetime import date\n",
    "from random import randint\n",
    "\n",
    "from bokeh.models import ColumnDataSource\n",
    "\n",
    "source = ColumnDataSource(dict(dates=[date(2014, 3, i+1) for i in range(10)],\n",
    "                               downloads=[randint(0, 100) for i in range(10)]))\n",
    "columns = [\n",
    "    TableColumn(field='dates', title='Date', formatter=DateFormatter()),\n",
    "    TableColumn(field='downloads', title='Downloads')]\n",
    "show(DataTable(source=source, columns=columns, width=400, height=280,\n",
    "               sizing_mode='stretch_width'))"
   ]
  },
  {
   "cell_type": "code",
   "execution_count": 71,
   "metadata": {},
   "outputs": [
    {
     "data": {
      "text/html": [
       "\n",
       "\n",
       "\n",
       "\n",
       "\n",
       "\n",
       "  <div class=\"bk-root\" id=\"ae1880c4-4f9a-414e-9fc0-43ca79950a95\" data-root-id=\"2435\"></div>\n"
      ]
     },
     "metadata": {},
     "output_type": "display_data"
    },
    {
     "data": {
      "application/javascript": [
       "(function(root) {\n",
       "  function embed_document(root) {\n",
       "    \n",
       "  var docs_json = {\"1411d6c6-d3de-4dd1-a6ae-df3afc7982a6\":{\"roots\":{\"references\":[{\"attributes\":{\"children\":[{\"id\":\"2433\",\"type\":\"Row\"},{\"id\":\"2434\",\"type\":\"Row\"}],\"sizing_mode\":\"stretch_width\"},\"id\":\"2435\",\"type\":\"Column\"},{\"attributes\":{\"children\":[{\"id\":\"2432\",\"type\":\"Div\"}],\"sizing_mode\":\"stretch_width\"},\"id\":\"2434\",\"type\":\"Row\"},{\"attributes\":{\"children\":[{\"id\":\"2431\",\"type\":\"Dropdown\"}],\"sizing_mode\":\"stretch_width\"},\"id\":\"2433\",\"type\":\"Row\"},{\"attributes\":{\"height\":100,\"sizing_mode\":\"stretch_width\"},\"id\":\"2432\",\"type\":\"Div\"},{\"attributes\":{\"button_type\":\"warning\",\"callback\":null,\"icon\":null,\"label\":\"Dropdown button\",\"menu\":[[\"Item 1\",\"item_1\"],[\"Item 2\",\"item_2\"],null,[\"Item 3\",\"item_3\"]],\"sizing_mode\":\"stretch_width\"},\"id\":\"2431\",\"type\":\"Dropdown\"}],\"root_ids\":[\"2435\"]},\"title\":\"Bokeh Application\",\"version\":\"1.4.0\"}};\n",
       "  var render_items = [{\"docid\":\"1411d6c6-d3de-4dd1-a6ae-df3afc7982a6\",\"roots\":{\"2435\":\"ae1880c4-4f9a-414e-9fc0-43ca79950a95\"}}];\n",
       "  root.Bokeh.embed.embed_items_notebook(docs_json, render_items);\n",
       "\n",
       "  }\n",
       "  if (root.Bokeh !== undefined) {\n",
       "    embed_document(root);\n",
       "  } else {\n",
       "    var attempts = 0;\n",
       "    var timer = setInterval(function(root) {\n",
       "      if (root.Bokeh !== undefined) {\n",
       "        clearInterval(timer);\n",
       "        embed_document(root);\n",
       "      } else {\n",
       "        attempts++;\n",
       "        if (attempts > 100) {\n",
       "          clearInterval(timer);\n",
       "          console.log(\"Bokeh: ERROR: Unable to run BokehJS code because BokehJS library is missing\");\n",
       "        }\n",
       "      }\n",
       "    }, 10, root)\n",
       "  }\n",
       "})(window);"
      ],
      "application/vnd.bokehjs_exec.v0+json": ""
     },
     "metadata": {
      "application/vnd.bokehjs_exec.v0+json": {
       "id": "2435"
      }
     },
     "output_type": "display_data"
    }
   ],
   "source": [
    "# 単に Dropbown を show したところ、表示領域の高さが足りすメニューが見えないため、下に空隙をあけるために div タグを挿入した。\n",
    "\n",
    "show(layout([[Dropdown(label='Dropdown button', button_type='warning',\n",
    "                      menu=[('Item 1', 'item_1'), ('Item 2', 'item_2'), None,\n",
    "                            ('Item 3', 'item_3')])],\n",
    "             [Div(height=100)]\n",
    "            ],\n",
    "            sizing_mode='stretch_width'))"
   ]
  },
  {
   "cell_type": "code",
   "execution_count": 10,
   "metadata": {},
   "outputs": [
    {
     "data": {
      "text/html": [
       "\n",
       "\n",
       "\n",
       "\n",
       "\n",
       "\n",
       "  <div class=\"bk-root\" id=\"8f3d14cf-2113-4180-b48b-4f743c789f33\" data-root-id=\"1055\"></div>\n"
      ]
     },
     "metadata": {},
     "output_type": "display_data"
    },
    {
     "data": {
      "application/javascript": [
       "(function(root) {\n",
       "  function embed_document(root) {\n",
       "    \n",
       "  var docs_json = {\"64cd9317-a3bb-4fd3-ab9d-9e0e287b56c8\":{\"roots\":{\"references\":[{\"attributes\":{},\"id\":\"1055\",\"type\":\"FileInput\"}],\"root_ids\":[\"1055\"]},\"title\":\"Bokeh Application\",\"version\":\"1.4.0\"}};\n",
       "  var render_items = [{\"docid\":\"64cd9317-a3bb-4fd3-ab9d-9e0e287b56c8\",\"roots\":{\"1055\":\"8f3d14cf-2113-4180-b48b-4f743c789f33\"}}];\n",
       "  root.Bokeh.embed.embed_items_notebook(docs_json, render_items);\n",
       "\n",
       "  }\n",
       "  if (root.Bokeh !== undefined) {\n",
       "    embed_document(root);\n",
       "  } else {\n",
       "    var attempts = 0;\n",
       "    var timer = setInterval(function(root) {\n",
       "      if (root.Bokeh !== undefined) {\n",
       "        clearInterval(timer);\n",
       "        embed_document(root);\n",
       "      } else {\n",
       "        attempts++;\n",
       "        if (attempts > 100) {\n",
       "          clearInterval(timer);\n",
       "          console.log(\"Bokeh: ERROR: Unable to run BokehJS code because BokehJS library is missing\");\n",
       "        }\n",
       "      }\n",
       "    }, 10, root)\n",
       "  }\n",
       "})(window);"
      ],
      "application/vnd.bokehjs_exec.v0+json": ""
     },
     "metadata": {
      "application/vnd.bokehjs_exec.v0+json": {
       "id": "1055"
      }
     },
     "output_type": "display_data"
    }
   ],
   "source": [
    "show(FileInput())"
   ]
  },
  {
   "cell_type": "code",
   "execution_count": 99,
   "metadata": {},
   "outputs": [
    {
     "data": {
      "text/html": [
       "\n",
       "\n",
       "\n",
       "\n",
       "\n",
       "\n",
       "  <div class=\"bk-root\" id=\"eae290be-55d3-4df3-bd0d-f0b2ae79153d\" data-root-id=\"3774\"></div>\n"
      ]
     },
     "metadata": {},
     "output_type": "display_data"
    },
    {
     "data": {
      "application/javascript": [
       "(function(root) {\n",
       "  function embed_document(root) {\n",
       "    \n",
       "  var docs_json = {\"f9ee1b7a-aa1b-4122-9e7b-409375501779\":{\"roots\":{\"references\":[{\"attributes\":{\"callback\":null,\"options\":[[\"foo\",\"Foo\"],[\"bar\",\"Bar\"],[\"bas\",\"Baz\"],[\"quux\",\"Quux\"]],\"sizing_mode\":\"stretch_both\",\"title\":\"Option:\",\"value\":[\"foo\",\"quux\"]},\"id\":\"3774\",\"type\":\"MultiSelect\"}],\"root_ids\":[\"3774\"]},\"title\":\"Bokeh Application\",\"version\":\"1.4.0\"}};\n",
       "  var render_items = [{\"docid\":\"f9ee1b7a-aa1b-4122-9e7b-409375501779\",\"roots\":{\"3774\":\"eae290be-55d3-4df3-bd0d-f0b2ae79153d\"}}];\n",
       "  root.Bokeh.embed.embed_items_notebook(docs_json, render_items);\n",
       "\n",
       "  }\n",
       "  if (root.Bokeh !== undefined) {\n",
       "    embed_document(root);\n",
       "  } else {\n",
       "    var attempts = 0;\n",
       "    var timer = setInterval(function(root) {\n",
       "      if (root.Bokeh !== undefined) {\n",
       "        clearInterval(timer);\n",
       "        embed_document(root);\n",
       "      } else {\n",
       "        attempts++;\n",
       "        if (attempts > 100) {\n",
       "          clearInterval(timer);\n",
       "          console.log(\"Bokeh: ERROR: Unable to run BokehJS code because BokehJS library is missing\");\n",
       "        }\n",
       "      }\n",
       "    }, 10, root)\n",
       "  }\n",
       "})(window);"
      ],
      "application/vnd.bokehjs_exec.v0+json": ""
     },
     "metadata": {
      "application/vnd.bokehjs_exec.v0+json": {
       "id": "3774"
      }
     },
     "output_type": "display_data"
    }
   ],
   "source": [
    "show(MultiSelect(title='Option:',\n",
    "                 options=[('foo', 'Foo'), ('bar', 'Bar'), ('bas', 'Baz'), ('quux', 'Quux')],\n",
    "                 value='foo quux'.split(),\n",
    "                 sizing_mode='stretch_both'))"
   ]
  },
  {
   "cell_type": "code",
   "execution_count": 73,
   "metadata": {},
   "outputs": [
    {
     "data": {
      "text/html": [
       "\n",
       "\n",
       "\n",
       "\n",
       "\n",
       "\n",
       "  <div class=\"bk-root\" id=\"d6a1247e-ffb2-4f83-b3d0-9b81208c8b04\" data-root-id=\"2483\"></div>\n"
      ]
     },
     "metadata": {},
     "output_type": "display_data"
    },
    {
     "data": {
      "application/javascript": [
       "(function(root) {\n",
       "  function embed_document(root) {\n",
       "    \n",
       "  var docs_json = {\"d30e656e-380c-40cd-9087-484d4530fbbb\":{\"roots\":{\"references\":[{\"attributes\":{\"active\":0,\"callback\":null,\"labels\":[\"Option 1\",\"Option 2\",\"Option 3\"],\"sizing_mode\":\"stretch_both\"},\"id\":\"2483\",\"type\":\"RadioButtonGroup\"}],\"root_ids\":[\"2483\"]},\"title\":\"Bokeh Application\",\"version\":\"1.4.0\"}};\n",
       "  var render_items = [{\"docid\":\"d30e656e-380c-40cd-9087-484d4530fbbb\",\"roots\":{\"2483\":\"d6a1247e-ffb2-4f83-b3d0-9b81208c8b04\"}}];\n",
       "  root.Bokeh.embed.embed_items_notebook(docs_json, render_items);\n",
       "\n",
       "  }\n",
       "  if (root.Bokeh !== undefined) {\n",
       "    embed_document(root);\n",
       "  } else {\n",
       "    var attempts = 0;\n",
       "    var timer = setInterval(function(root) {\n",
       "      if (root.Bokeh !== undefined) {\n",
       "        clearInterval(timer);\n",
       "        embed_document(root);\n",
       "      } else {\n",
       "        attempts++;\n",
       "        if (attempts > 100) {\n",
       "          clearInterval(timer);\n",
       "          console.log(\"Bokeh: ERROR: Unable to run BokehJS code because BokehJS library is missing\");\n",
       "        }\n",
       "      }\n",
       "    }, 10, root)\n",
       "  }\n",
       "})(window);"
      ],
      "application/vnd.bokehjs_exec.v0+json": ""
     },
     "metadata": {
      "application/vnd.bokehjs_exec.v0+json": {
       "id": "2483"
      }
     },
     "output_type": "display_data"
    }
   ],
   "source": [
    "show(RadioButtonGroup(labels='Option 1, Option 2, Option 3'.split(', '),\n",
    "                      active=0,\n",
    "                      sizing_mode='stretch_both'))"
   ]
  },
  {
   "cell_type": "code",
   "execution_count": 13,
   "metadata": {},
   "outputs": [
    {
     "data": {
      "text/html": [
       "\n",
       "\n",
       "\n",
       "\n",
       "\n",
       "\n",
       "  <div class=\"bk-root\" id=\"ae235e37-dfc3-4e2a-9723-22005f7ac58b\" data-root-id=\"1073\"></div>\n"
      ]
     },
     "metadata": {},
     "output_type": "display_data"
    },
    {
     "data": {
      "application/javascript": [
       "(function(root) {\n",
       "  function embed_document(root) {\n",
       "    \n",
       "  var docs_json = {\"c13625d3-10b1-4051-8155-5654ef286bb0\":{\"roots\":{\"references\":[{\"attributes\":{\"active\":1,\"callback\":null,\"labels\":[\"Option 1\",\"Option 2\",\"Option 3\"]},\"id\":\"1073\",\"type\":\"RadioButtonGroup\"}],\"root_ids\":[\"1073\"]},\"title\":\"Bokeh Application\",\"version\":\"1.4.0\"}};\n",
       "  var render_items = [{\"docid\":\"c13625d3-10b1-4051-8155-5654ef286bb0\",\"roots\":{\"1073\":\"ae235e37-dfc3-4e2a-9723-22005f7ac58b\"}}];\n",
       "  root.Bokeh.embed.embed_items_notebook(docs_json, render_items);\n",
       "\n",
       "  }\n",
       "  if (root.Bokeh !== undefined) {\n",
       "    embed_document(root);\n",
       "  } else {\n",
       "    var attempts = 0;\n",
       "    var timer = setInterval(function(root) {\n",
       "      if (root.Bokeh !== undefined) {\n",
       "        clearInterval(timer);\n",
       "        embed_document(root);\n",
       "      } else {\n",
       "        attempts++;\n",
       "        if (attempts > 100) {\n",
       "          clearInterval(timer);\n",
       "          console.log(\"Bokeh: ERROR: Unable to run BokehJS code because BokehJS library is missing\");\n",
       "        }\n",
       "      }\n",
       "    }, 10, root)\n",
       "  }\n",
       "})(window);"
      ],
      "application/vnd.bokehjs_exec.v0+json": ""
     },
     "metadata": {
      "application/vnd.bokehjs_exec.v0+json": {
       "id": "1073"
      }
     },
     "output_type": "display_data"
    }
   ],
   "source": [
    "show(RadioButtonGroup(labels='Option 1, Option 2, Option 3'.split(', '), active=1))"
   ]
  },
  {
   "cell_type": "code",
   "execution_count": 14,
   "metadata": {},
   "outputs": [
    {
     "data": {
      "text/html": [
       "\n",
       "\n",
       "\n",
       "\n",
       "\n",
       "\n",
       "  <div class=\"bk-root\" id=\"31d86299-e87a-47b2-af8c-b924df54e343\" data-root-id=\"1079\"></div>\n"
      ]
     },
     "metadata": {},
     "output_type": "display_data"
    },
    {
     "data": {
      "application/javascript": [
       "(function(root) {\n",
       "  function embed_document(root) {\n",
       "    \n",
       "  var docs_json = {\"68a0efc3-07c9-4138-a51b-32fe12e594d0\":{\"roots\":{\"references\":[{\"attributes\":{\"active\":2,\"callback\":null,\"labels\":[\"Option 1\",\"Option 2\",\"Option 3\"]},\"id\":\"1079\",\"type\":\"RadioGroup\"}],\"root_ids\":[\"1079\"]},\"title\":\"Bokeh Application\",\"version\":\"1.4.0\"}};\n",
       "  var render_items = [{\"docid\":\"68a0efc3-07c9-4138-a51b-32fe12e594d0\",\"roots\":{\"1079\":\"31d86299-e87a-47b2-af8c-b924df54e343\"}}];\n",
       "  root.Bokeh.embed.embed_items_notebook(docs_json, render_items);\n",
       "\n",
       "  }\n",
       "  if (root.Bokeh !== undefined) {\n",
       "    embed_document(root);\n",
       "  } else {\n",
       "    var attempts = 0;\n",
       "    var timer = setInterval(function(root) {\n",
       "      if (root.Bokeh !== undefined) {\n",
       "        clearInterval(timer);\n",
       "        embed_document(root);\n",
       "      } else {\n",
       "        attempts++;\n",
       "        if (attempts > 100) {\n",
       "          clearInterval(timer);\n",
       "          console.log(\"Bokeh: ERROR: Unable to run BokehJS code because BokehJS library is missing\");\n",
       "        }\n",
       "      }\n",
       "    }, 10, root)\n",
       "  }\n",
       "})(window);"
      ],
      "application/vnd.bokehjs_exec.v0+json": ""
     },
     "metadata": {
      "application/vnd.bokehjs_exec.v0+json": {
       "id": "1079"
      }
     },
     "output_type": "display_data"
    }
   ],
   "source": [
    "show(RadioGroup(labels='Option 1, Option 2, Option 3'.split(', '), active=2))"
   ]
  },
  {
   "cell_type": "code",
   "execution_count": 75,
   "metadata": {},
   "outputs": [
    {
     "data": {
      "text/html": [
       "\n",
       "\n",
       "\n",
       "\n",
       "\n",
       "\n",
       "  <div class=\"bk-root\" id=\"5e282e46-7ed3-4114-9e0e-4c8fcae75f18\" data-root-id=\"2531\"></div>\n"
      ]
     },
     "metadata": {},
     "output_type": "display_data"
    },
    {
     "data": {
      "application/javascript": [
       "(function(root) {\n",
       "  function embed_document(root) {\n",
       "    \n",
       "  var docs_json = {\"83be2879-1c7e-4480-bdc0-ac033f44c4b5\":{\"roots\":{\"references\":[{\"attributes\":{\"callback\":null,\"options\":[\"foo\",\"bar\",\"baz\",\"quuz\"],\"sizing_mode\":\"stretch_both\",\"title\":\"Option:\",\"value\":\"baz\"},\"id\":\"2531\",\"type\":\"Select\"}],\"root_ids\":[\"2531\"]},\"title\":\"Bokeh Application\",\"version\":\"1.4.0\"}};\n",
       "  var render_items = [{\"docid\":\"83be2879-1c7e-4480-bdc0-ac033f44c4b5\",\"roots\":{\"2531\":\"5e282e46-7ed3-4114-9e0e-4c8fcae75f18\"}}];\n",
       "  root.Bokeh.embed.embed_items_notebook(docs_json, render_items);\n",
       "\n",
       "  }\n",
       "  if (root.Bokeh !== undefined) {\n",
       "    embed_document(root);\n",
       "  } else {\n",
       "    var attempts = 0;\n",
       "    var timer = setInterval(function(root) {\n",
       "      if (root.Bokeh !== undefined) {\n",
       "        clearInterval(timer);\n",
       "        embed_document(root);\n",
       "      } else {\n",
       "        attempts++;\n",
       "        if (attempts > 100) {\n",
       "          clearInterval(timer);\n",
       "          console.log(\"Bokeh: ERROR: Unable to run BokehJS code because BokehJS library is missing\");\n",
       "        }\n",
       "      }\n",
       "    }, 10, root)\n",
       "  }\n",
       "})(window);"
      ],
      "application/vnd.bokehjs_exec.v0+json": ""
     },
     "metadata": {
      "application/vnd.bokehjs_exec.v0+json": {
       "id": "2531"
      }
     },
     "output_type": "display_data"
    }
   ],
   "source": [
    "show(Select(title='Option:', value='baz',\n",
    "            options='foo, bar, baz, quuz'.split(', '),\n",
    "            sizing_mode='stretch_both'))"
   ]
  },
  {
   "cell_type": "code",
   "execution_count": 76,
   "metadata": {},
   "outputs": [
    {
     "data": {
      "text/html": [
       "\n",
       "\n",
       "\n",
       "\n",
       "\n",
       "\n",
       "  <div class=\"bk-root\" id=\"f197325d-0165-4b4a-ad62-72abe9cde73a\" data-root-id=\"2555\"></div>\n"
      ]
     },
     "metadata": {},
     "output_type": "display_data"
    },
    {
     "data": {
      "application/javascript": [
       "(function(root) {\n",
       "  function embed_document(root) {\n",
       "    \n",
       "  var docs_json = {\"6e0a4b87-4899-41e9-bb79-bd795fe6e701\":{\"roots\":{\"references\":[{\"attributes\":{\"callback\":null,\"end\":9,\"sizing_mode\":\"stretch_both\",\"start\":0,\"step\":1.5,\"title\":\"Stuff\",\"value\":3},\"id\":\"2555\",\"type\":\"Slider\"}],\"root_ids\":[\"2555\"]},\"title\":\"Bokeh Application\",\"version\":\"1.4.0\"}};\n",
       "  var render_items = [{\"docid\":\"6e0a4b87-4899-41e9-bb79-bd795fe6e701\",\"roots\":{\"2555\":\"f197325d-0165-4b4a-ad62-72abe9cde73a\"}}];\n",
       "  root.Bokeh.embed.embed_items_notebook(docs_json, render_items);\n",
       "\n",
       "  }\n",
       "  if (root.Bokeh !== undefined) {\n",
       "    embed_document(root);\n",
       "  } else {\n",
       "    var attempts = 0;\n",
       "    var timer = setInterval(function(root) {\n",
       "      if (root.Bokeh !== undefined) {\n",
       "        clearInterval(timer);\n",
       "        embed_document(root);\n",
       "      } else {\n",
       "        attempts++;\n",
       "        if (attempts > 100) {\n",
       "          clearInterval(timer);\n",
       "          console.log(\"Bokeh: ERROR: Unable to run BokehJS code because BokehJS library is missing\");\n",
       "        }\n",
       "      }\n",
       "    }, 10, root)\n",
       "  }\n",
       "})(window);"
      ],
      "application/vnd.bokehjs_exec.v0+json": ""
     },
     "metadata": {
      "application/vnd.bokehjs_exec.v0+json": {
       "id": "2555"
      }
     },
     "output_type": "display_data"
    }
   ],
   "source": [
    "show(Slider(start=0, end=9, value=3, step=1.5, title='Stuff',\n",
    "            sizing_mode='stretch_both'))"
   ]
  },
  {
   "cell_type": "code",
   "execution_count": 78,
   "metadata": {},
   "outputs": [
    {
     "data": {
      "text/html": [
       "\n",
       "\n",
       "\n",
       "\n",
       "\n",
       "\n",
       "  <div class=\"bk-root\" id=\"ffe20c37-37f8-4343-9102-e0eee8a24d37\" data-root-id=\"2881\"></div>\n"
      ]
     },
     "metadata": {},
     "output_type": "display_data"
    },
    {
     "data": {
      "application/javascript": [
       "(function(root) {\n",
       "  function embed_document(root) {\n",
       "    \n",
       "  var docs_json = {\"0f20bd15-336f-4177-99b1-d36365fa0503\":{\"roots\":{\"references\":[{\"attributes\":{\"callback\":null,\"tabs\":[{\"id\":\"2879\",\"type\":\"Panel\"},{\"id\":\"2880\",\"type\":\"Panel\"}]},\"id\":\"2881\",\"type\":\"Tabs\"},{\"attributes\":{\"dimension\":1,\"ticker\":{\"id\":\"2820\",\"type\":\"BasicTicker\"}},\"id\":\"2823\",\"type\":\"Grid\"},{\"attributes\":{},\"id\":\"2842\",\"type\":\"LinearScale\"},{\"attributes\":{\"ticker\":{\"id\":\"2847\",\"type\":\"BasicTicker\"}},\"id\":\"2850\",\"type\":\"Grid\"},{\"attributes\":{\"callback\":null},\"id\":\"2838\",\"type\":\"DataRange1d\"},{\"attributes\":{\"dimension\":1,\"ticker\":{\"id\":\"2852\",\"type\":\"BasicTicker\"}},\"id\":\"2855\",\"type\":\"Grid\"},{\"attributes\":{},\"id\":\"2847\",\"type\":\"BasicTicker\"},{\"attributes\":{\"formatter\":{\"id\":\"2934\",\"type\":\"BasicTickFormatter\"},\"ticker\":{\"id\":\"2852\",\"type\":\"BasicTicker\"}},\"id\":\"2851\",\"type\":\"LinearAxis\"},{\"attributes\":{\"line_alpha\":0.1,\"line_color\":\"#1f77b4\",\"line_width\":3,\"x\":{\"field\":\"x\"},\"y\":{\"field\":\"y\"}},\"id\":\"2876\",\"type\":\"Line\"},{\"attributes\":{\"formatter\":{\"id\":\"2928\",\"type\":\"BasicTickFormatter\"},\"ticker\":{\"id\":\"2815\",\"type\":\"BasicTicker\"}},\"id\":\"2814\",\"type\":\"LinearAxis\"},{\"attributes\":{\"callback\":null},\"id\":\"2840\",\"type\":\"DataRange1d\"},{\"attributes\":{},\"id\":\"2939\",\"type\":\"Selection\"},{\"attributes\":{\"active_drag\":\"auto\",\"active_inspect\":\"auto\",\"active_multi\":null,\"active_scroll\":\"auto\",\"active_tap\":\"auto\",\"tools\":[{\"id\":\"2824\",\"type\":\"PanTool\"},{\"id\":\"2825\",\"type\":\"WheelZoomTool\"},{\"id\":\"2826\",\"type\":\"BoxZoomTool\"},{\"id\":\"2827\",\"type\":\"SaveTool\"},{\"id\":\"2828\",\"type\":\"ResetTool\"},{\"id\":\"2829\",\"type\":\"HelpTool\"}]},\"id\":\"2830\",\"type\":\"Toolbar\"},{\"attributes\":{},\"id\":\"2810\",\"type\":\"LinearScale\"},{\"attributes\":{\"data_source\":{\"id\":\"2874\",\"type\":\"ColumnDataSource\"},\"glyph\":{\"id\":\"2875\",\"type\":\"Line\"},\"hover_glyph\":null,\"muted_glyph\":null,\"nonselection_glyph\":{\"id\":\"2876\",\"type\":\"Line\"},\"selection_glyph\":null,\"view\":{\"id\":\"2878\",\"type\":\"CDSView\"}},\"id\":\"2877\",\"type\":\"GlyphRenderer\"},{\"attributes\":{},\"id\":\"2812\",\"type\":\"LinearScale\"},{\"attributes\":{\"fill_alpha\":{\"value\":0.1},\"fill_color\":{\"value\":\"#1f77b4\"},\"line_alpha\":{\"value\":0.1},\"line_color\":{\"value\":\"#1f77b4\"},\"size\":{\"units\":\"screen\",\"value\":20},\"x\":{\"field\":\"x\"},\"y\":{\"field\":\"y\"}},\"id\":\"2871\",\"type\":\"Circle\"},{\"attributes\":{},\"id\":\"2824\",\"type\":\"PanTool\"},{\"attributes\":{\"source\":{\"id\":\"2874\",\"type\":\"ColumnDataSource\"}},\"id\":\"2878\",\"type\":\"CDSView\"},{\"attributes\":{},\"id\":\"2825\",\"type\":\"WheelZoomTool\"},{\"attributes\":{\"callback\":null,\"data\":{\"x\":[0,1,2,3,4],\"y\":[6,7,2,4,5]},\"selected\":{\"id\":\"2939\",\"type\":\"Selection\"},\"selection_policy\":{\"id\":\"2938\",\"type\":\"UnionRenderers\"}},\"id\":\"2874\",\"type\":\"ColumnDataSource\"},{\"attributes\":{\"child\":{\"id\":\"2805\",\"subtype\":\"Figure\",\"type\":\"Plot\"},\"title\":\"circle\"},\"id\":\"2879\",\"type\":\"Panel\"},{\"attributes\":{},\"id\":\"2928\",\"type\":\"BasicTickFormatter\"},{\"attributes\":{\"child\":{\"id\":\"2837\",\"subtype\":\"Figure\",\"type\":\"Plot\"},\"title\":\"line\"},\"id\":\"2880\",\"type\":\"Panel\"},{\"attributes\":{\"overlay\":{\"id\":\"2937\",\"type\":\"BoxAnnotation\"}},\"id\":\"2826\",\"type\":\"BoxZoomTool\"},{\"attributes\":{\"active_drag\":\"auto\",\"active_inspect\":\"auto\",\"active_multi\":null,\"active_scroll\":\"auto\",\"active_tap\":\"auto\",\"tools\":[{\"id\":\"2856\",\"type\":\"PanTool\"},{\"id\":\"2857\",\"type\":\"WheelZoomTool\"},{\"id\":\"2858\",\"type\":\"BoxZoomTool\"},{\"id\":\"2859\",\"type\":\"SaveTool\"},{\"id\":\"2860\",\"type\":\"ResetTool\"},{\"id\":\"2861\",\"type\":\"HelpTool\"}]},\"id\":\"2862\",\"type\":\"Toolbar\"},{\"attributes\":{},\"id\":\"2820\",\"type\":\"BasicTicker\"},{\"attributes\":{},\"id\":\"2827\",\"type\":\"SaveTool\"},{\"attributes\":{\"bottom_units\":\"screen\",\"fill_alpha\":{\"value\":0.5},\"fill_color\":{\"value\":\"lightgrey\"},\"left_units\":\"screen\",\"level\":\"overlay\",\"line_alpha\":{\"value\":1.0},\"line_color\":{\"value\":\"black\"},\"line_dash\":[4,4],\"line_width\":{\"value\":2},\"render_mode\":\"css\",\"right_units\":\"screen\",\"top_units\":\"screen\"},\"id\":\"2940\",\"type\":\"BoxAnnotation\"},{\"attributes\":{},\"id\":\"2852\",\"type\":\"BasicTicker\"},{\"attributes\":{},\"id\":\"2815\",\"type\":\"BasicTicker\"},{\"attributes\":{},\"id\":\"2828\",\"type\":\"ResetTool\"},{\"attributes\":{},\"id\":\"2856\",\"type\":\"PanTool\"},{\"attributes\":{\"callback\":null},\"id\":\"2808\",\"type\":\"DataRange1d\"},{\"attributes\":{},\"id\":\"2857\",\"type\":\"WheelZoomTool\"},{\"attributes\":{},\"id\":\"2934\",\"type\":\"BasicTickFormatter\"},{\"attributes\":{},\"id\":\"2935\",\"type\":\"UnionRenderers\"},{\"attributes\":{\"below\":[{\"id\":\"2846\",\"type\":\"LinearAxis\"}],\"center\":[{\"id\":\"2850\",\"type\":\"Grid\"},{\"id\":\"2855\",\"type\":\"Grid\"}],\"left\":[{\"id\":\"2851\",\"type\":\"LinearAxis\"}],\"plot_height\":300,\"plot_width\":300,\"renderers\":[{\"id\":\"2877\",\"type\":\"GlyphRenderer\"}],\"title\":{\"id\":\"2925\",\"type\":\"Title\"},\"toolbar\":{\"id\":\"2862\",\"type\":\"Toolbar\"},\"x_range\":{\"id\":\"2838\",\"type\":\"DataRange1d\"},\"x_scale\":{\"id\":\"2842\",\"type\":\"LinearScale\"},\"y_range\":{\"id\":\"2840\",\"type\":\"DataRange1d\"},\"y_scale\":{\"id\":\"2844\",\"type\":\"LinearScale\"}},\"id\":\"2837\",\"subtype\":\"Figure\",\"type\":\"Plot\"},{\"attributes\":{},\"id\":\"2829\",\"type\":\"HelpTool\"},{\"attributes\":{\"ticker\":{\"id\":\"2815\",\"type\":\"BasicTicker\"}},\"id\":\"2818\",\"type\":\"Grid\"},{\"attributes\":{},\"id\":\"2930\",\"type\":\"BasicTickFormatter\"},{\"attributes\":{\"overlay\":{\"id\":\"2940\",\"type\":\"BoxAnnotation\"}},\"id\":\"2858\",\"type\":\"BoxZoomTool\"},{\"attributes\":{},\"id\":\"2936\",\"type\":\"Selection\"},{\"attributes\":{},\"id\":\"2938\",\"type\":\"UnionRenderers\"},{\"attributes\":{},\"id\":\"2859\",\"type\":\"SaveTool\"},{\"attributes\":{},\"id\":\"2844\",\"type\":\"LinearScale\"},{\"attributes\":{\"callback\":null,\"data\":{\"x\":[0,1,2,3,4],\"y\":[6,7,2,4,5]},\"selected\":{\"id\":\"2936\",\"type\":\"Selection\"},\"selection_policy\":{\"id\":\"2935\",\"type\":\"UnionRenderers\"}},\"id\":\"2869\",\"type\":\"ColumnDataSource\"},{\"attributes\":{\"below\":[{\"id\":\"2814\",\"type\":\"LinearAxis\"}],\"center\":[{\"id\":\"2818\",\"type\":\"Grid\"},{\"id\":\"2823\",\"type\":\"Grid\"}],\"left\":[{\"id\":\"2819\",\"type\":\"LinearAxis\"}],\"plot_height\":300,\"plot_width\":300,\"renderers\":[{\"id\":\"2872\",\"type\":\"GlyphRenderer\"}],\"title\":{\"id\":\"2923\",\"type\":\"Title\"},\"toolbar\":{\"id\":\"2830\",\"type\":\"Toolbar\"},\"x_range\":{\"id\":\"2806\",\"type\":\"DataRange1d\"},\"x_scale\":{\"id\":\"2810\",\"type\":\"LinearScale\"},\"y_range\":{\"id\":\"2808\",\"type\":\"DataRange1d\"},\"y_scale\":{\"id\":\"2812\",\"type\":\"LinearScale\"}},\"id\":\"2805\",\"subtype\":\"Figure\",\"type\":\"Plot\"},{\"attributes\":{\"formatter\":{\"id\":\"2932\",\"type\":\"BasicTickFormatter\"},\"ticker\":{\"id\":\"2847\",\"type\":\"BasicTicker\"}},\"id\":\"2846\",\"type\":\"LinearAxis\"},{\"attributes\":{},\"id\":\"2860\",\"type\":\"ResetTool\"},{\"attributes\":{\"callback\":null},\"id\":\"2806\",\"type\":\"DataRange1d\"},{\"attributes\":{\"data_source\":{\"id\":\"2869\",\"type\":\"ColumnDataSource\"},\"glyph\":{\"id\":\"2870\",\"type\":\"Circle\"},\"hover_glyph\":null,\"muted_glyph\":null,\"nonselection_glyph\":{\"id\":\"2871\",\"type\":\"Circle\"},\"selection_glyph\":null,\"view\":{\"id\":\"2873\",\"type\":\"CDSView\"}},\"id\":\"2872\",\"type\":\"GlyphRenderer\"},{\"attributes\":{\"formatter\":{\"id\":\"2930\",\"type\":\"BasicTickFormatter\"},\"ticker\":{\"id\":\"2820\",\"type\":\"BasicTicker\"}},\"id\":\"2819\",\"type\":\"LinearAxis\"},{\"attributes\":{\"text\":\"\"},\"id\":\"2925\",\"type\":\"Title\"},{\"attributes\":{\"fill_alpha\":{\"value\":0.5},\"fill_color\":{\"value\":\"navy\"},\"line_alpha\":{\"value\":0.5},\"line_color\":{\"value\":\"navy\"},\"size\":{\"units\":\"screen\",\"value\":20},\"x\":{\"field\":\"x\"},\"y\":{\"field\":\"y\"}},\"id\":\"2870\",\"type\":\"Circle\"},{\"attributes\":{\"line_alpha\":0.5,\"line_color\":\"navy\",\"line_width\":3,\"x\":{\"field\":\"x\"},\"y\":{\"field\":\"y\"}},\"id\":\"2875\",\"type\":\"Line\"},{\"attributes\":{},\"id\":\"2861\",\"type\":\"HelpTool\"},{\"attributes\":{\"bottom_units\":\"screen\",\"fill_alpha\":{\"value\":0.5},\"fill_color\":{\"value\":\"lightgrey\"},\"left_units\":\"screen\",\"level\":\"overlay\",\"line_alpha\":{\"value\":1.0},\"line_color\":{\"value\":\"black\"},\"line_dash\":[4,4],\"line_width\":{\"value\":2},\"render_mode\":\"css\",\"right_units\":\"screen\",\"top_units\":\"screen\"},\"id\":\"2937\",\"type\":\"BoxAnnotation\"},{\"attributes\":{},\"id\":\"2932\",\"type\":\"BasicTickFormatter\"},{\"attributes\":{\"text\":\"\"},\"id\":\"2923\",\"type\":\"Title\"},{\"attributes\":{\"source\":{\"id\":\"2869\",\"type\":\"ColumnDataSource\"}},\"id\":\"2873\",\"type\":\"CDSView\"}],\"root_ids\":[\"2881\"]},\"title\":\"Bokeh Application\",\"version\":\"1.4.0\"}};\n",
       "  var render_items = [{\"docid\":\"0f20bd15-336f-4177-99b1-d36365fa0503\",\"roots\":{\"2881\":\"ffe20c37-37f8-4343-9102-e0eee8a24d37\"}}];\n",
       "  root.Bokeh.embed.embed_items_notebook(docs_json, render_items);\n",
       "\n",
       "  }\n",
       "  if (root.Bokeh !== undefined) {\n",
       "    embed_document(root);\n",
       "  } else {\n",
       "    var attempts = 0;\n",
       "    var timer = setInterval(function(root) {\n",
       "      if (root.Bokeh !== undefined) {\n",
       "        clearInterval(timer);\n",
       "        embed_document(root);\n",
       "      } else {\n",
       "        attempts++;\n",
       "        if (attempts > 100) {\n",
       "          clearInterval(timer);\n",
       "          console.log(\"Bokeh: ERROR: Unable to run BokehJS code because BokehJS library is missing\");\n",
       "        }\n",
       "      }\n",
       "    }, 10, root)\n",
       "  }\n",
       "})(window);"
      ],
      "application/vnd.bokehjs_exec.v0+json": ""
     },
     "metadata": {
      "application/vnd.bokehjs_exec.v0+json": {
       "id": "2881"
      }
     },
     "output_type": "display_data"
    }
   ],
   "source": [
    "from bokeh.plotting import figure\n",
    "\n",
    "children = [(figure(plot_width=300, plot_height=300), label)\n",
    "     for label in 'circle line'.split()]\n",
    "\n",
    "x, y = range(5), [6, 7, 2, 4, 5]\n",
    "children[0][0].circle(x, y, size=20, color='navy', alpha=0.5)\n",
    "children[1][0].line(x, y, line_width=3, color='navy', alpha=0.5)\n",
    "\n",
    "show(Tabs(tabs = [ Panel(child=p, title=title) for p, title in children]))"
   ]
  },
  {
   "cell_type": "code",
   "execution_count": 79,
   "metadata": {},
   "outputs": [
    {
     "data": {
      "text/html": [
       "\n",
       "\n",
       "\n",
       "\n",
       "\n",
       "\n",
       "  <div class=\"bk-root\" id=\"cb88bda9-f5f6-4508-b002-352b9657f049\" data-root-id=\"3049\"></div>\n"
      ]
     },
     "metadata": {},
     "output_type": "display_data"
    },
    {
     "data": {
      "application/javascript": [
       "(function(root) {\n",
       "  function embed_document(root) {\n",
       "    \n",
       "  var docs_json = {\"2af2bc3c-a75c-4ead-a996-7140ae4ea864\":{\"roots\":{\"references\":[{\"attributes\":{\"callback\":null,\"rows\":6,\"sizing_mode\":\"stretch_both\",\"title\":\"Comment:\",\"value\":\"\\u30b3\\u30e1\\u30f3\\u30c8\\u3092\\u66f8\\u3044\\u3066\\u4e0b\\u3055\\u3044\\u3002\"},\"id\":\"3049\",\"type\":\"TextAreaInput\"}],\"root_ids\":[\"3049\"]},\"title\":\"Bokeh Application\",\"version\":\"1.4.0\"}};\n",
       "  var render_items = [{\"docid\":\"2af2bc3c-a75c-4ead-a996-7140ae4ea864\",\"roots\":{\"3049\":\"cb88bda9-f5f6-4508-b002-352b9657f049\"}}];\n",
       "  root.Bokeh.embed.embed_items_notebook(docs_json, render_items);\n",
       "\n",
       "  }\n",
       "  if (root.Bokeh !== undefined) {\n",
       "    embed_document(root);\n",
       "  } else {\n",
       "    var attempts = 0;\n",
       "    var timer = setInterval(function(root) {\n",
       "      if (root.Bokeh !== undefined) {\n",
       "        clearInterval(timer);\n",
       "        embed_document(root);\n",
       "      } else {\n",
       "        attempts++;\n",
       "        if (attempts > 100) {\n",
       "          clearInterval(timer);\n",
       "          console.log(\"Bokeh: ERROR: Unable to run BokehJS code because BokehJS library is missing\");\n",
       "        }\n",
       "      }\n",
       "    }, 10, root)\n",
       "  }\n",
       "})(window);"
      ],
      "application/vnd.bokehjs_exec.v0+json": ""
     },
     "metadata": {
      "application/vnd.bokehjs_exec.v0+json": {
       "id": "3049"
      }
     },
     "output_type": "display_data"
    }
   ],
   "source": [
    "show(TextAreaInput(value='コメントを書いて下さい。', rows=6, title='Comment:',\n",
    "                   sizing_mode='stretch_both'))"
   ]
  },
  {
   "cell_type": "code",
   "execution_count": 80,
   "metadata": {},
   "outputs": [
    {
     "data": {
      "text/html": [
       "\n",
       "\n",
       "\n",
       "\n",
       "\n",
       "\n",
       "  <div class=\"bk-root\" id=\"b178be62-f714-4652-b48f-04c3239fd406\" data-root-id=\"3109\"></div>\n"
      ]
     },
     "metadata": {},
     "output_type": "display_data"
    },
    {
     "data": {
      "application/javascript": [
       "(function(root) {\n",
       "  function embed_document(root) {\n",
       "    \n",
       "  var docs_json = {\"eaf27a0a-913c-4120-b0fb-f547cdf95d43\":{\"roots\":{\"references\":[{\"attributes\":{\"callback\":null,\"sizing_mode\":\"stretch_both\",\"title\":\"\\u4f8b\\uff1a\\u5e0c\\u671b\\u306e\\u5e72\\u3057\\u67ff\",\"value\":\"\\u5e72\\u3057\\u67ff\"},\"id\":\"3109\",\"type\":\"TextInput\"}],\"root_ids\":[\"3109\"]},\"title\":\"Bokeh Application\",\"version\":\"1.4.0\"}};\n",
       "  var render_items = [{\"docid\":\"eaf27a0a-913c-4120-b0fb-f547cdf95d43\",\"roots\":{\"3109\":\"b178be62-f714-4652-b48f-04c3239fd406\"}}];\n",
       "  root.Bokeh.embed.embed_items_notebook(docs_json, render_items);\n",
       "\n",
       "  }\n",
       "  if (root.Bokeh !== undefined) {\n",
       "    embed_document(root);\n",
       "  } else {\n",
       "    var attempts = 0;\n",
       "    var timer = setInterval(function(root) {\n",
       "      if (root.Bokeh !== undefined) {\n",
       "        clearInterval(timer);\n",
       "        embed_document(root);\n",
       "      } else {\n",
       "        attempts++;\n",
       "        if (attempts > 100) {\n",
       "          clearInterval(timer);\n",
       "          console.log(\"Bokeh: ERROR: Unable to run BokehJS code because BokehJS library is missing\");\n",
       "        }\n",
       "      }\n",
       "    }, 10, root)\n",
       "  }\n",
       "})(window);"
      ],
      "application/vnd.bokehjs_exec.v0+json": ""
     },
     "metadata": {
      "application/vnd.bokehjs_exec.v0+json": {
       "id": "3109"
      }
     },
     "output_type": "display_data"
    }
   ],
   "source": [
    "show(TextInput(value='干し柿', title='例：希望の干し柿', sizing_mode='stretch_both'))"
   ]
  },
  {
   "cell_type": "code",
   "execution_count": 81,
   "metadata": {},
   "outputs": [
    {
     "data": {
      "text/html": [
       "\n",
       "\n",
       "\n",
       "\n",
       "\n",
       "\n",
       "  <div class=\"bk-root\" id=\"629b5b65-2310-45b9-b4eb-4e38230dd401\" data-root-id=\"3169\"></div>\n"
      ]
     },
     "metadata": {},
     "output_type": "display_data"
    },
    {
     "data": {
      "application/javascript": [
       "(function(root) {\n",
       "  function embed_document(root) {\n",
       "    \n",
       "  var docs_json = {\"99b18d7f-1e41-4fe4-85e6-bd4038947f4c\":{\"roots\":{\"references\":[{\"attributes\":{\"button_type\":\"success\",\"callback\":null,\"icon\":null,\"label\":\"\\u30da\\u30b3\\u30da\\u30b3\",\"sizing_mode\":\"stretch_both\"},\"id\":\"3169\",\"type\":\"Toggle\"}],\"root_ids\":[\"3169\"]},\"title\":\"Bokeh Application\",\"version\":\"1.4.0\"}};\n",
       "  var render_items = [{\"docid\":\"99b18d7f-1e41-4fe4-85e6-bd4038947f4c\",\"roots\":{\"3169\":\"629b5b65-2310-45b9-b4eb-4e38230dd401\"}}];\n",
       "  root.Bokeh.embed.embed_items_notebook(docs_json, render_items);\n",
       "\n",
       "  }\n",
       "  if (root.Bokeh !== undefined) {\n",
       "    embed_document(root);\n",
       "  } else {\n",
       "    var attempts = 0;\n",
       "    var timer = setInterval(function(root) {\n",
       "      if (root.Bokeh !== undefined) {\n",
       "        clearInterval(timer);\n",
       "        embed_document(root);\n",
       "      } else {\n",
       "        attempts++;\n",
       "        if (attempts > 100) {\n",
       "          clearInterval(timer);\n",
       "          console.log(\"Bokeh: ERROR: Unable to run BokehJS code because BokehJS library is missing\");\n",
       "        }\n",
       "      }\n",
       "    }, 10, root)\n",
       "  }\n",
       "})(window);"
      ],
      "application/vnd.bokehjs_exec.v0+json": ""
     },
     "metadata": {
      "application/vnd.bokehjs_exec.v0+json": {
       "id": "3169"
      }
     },
     "output_type": "display_data"
    }
   ],
   "source": [
    "show(Toggle(label='ペコペコ', button_type='success', sizing_mode='stretch_both'))"
   ]
  },
  {
   "cell_type": "code",
   "execution_count": 21,
   "metadata": {},
   "outputs": [
    {
     "data": {
      "text/html": [
       "\n",
       "\n",
       "\n",
       "\n",
       "\n",
       "\n",
       "  <div class=\"bk-root\" id=\"665b103c-defd-4ced-a835-285f5cf3c569\" data-root-id=\"1377\"></div>\n"
      ]
     },
     "metadata": {},
     "output_type": "display_data"
    },
    {
     "data": {
      "application/javascript": [
       "(function(root) {\n",
       "  function embed_document(root) {\n",
       "    \n",
       "  var docs_json = {\"18681ade-c8aa-4e1e-8903-0b00f2904d52\":{\"roots\":{\"references\":[{\"attributes\":{\"height\":120,\"text\":\"Your <a href=\\\"https://en.wikipedia.org/wiki/HTML\\\">HTML</a>-supported text is initialized with the <b>text</b> argument.  The\\nremaining div arguments are <b>width</b> and <b>height</b>. For this example, those values\\nare <i>200</i> and <i>120</i> respectively.\",\"width\":200},\"id\":\"1377\",\"type\":\"Div\"}],\"root_ids\":[\"1377\"]},\"title\":\"Bokeh Application\",\"version\":\"1.4.0\"}};\n",
       "  var render_items = [{\"docid\":\"18681ade-c8aa-4e1e-8903-0b00f2904d52\",\"roots\":{\"1377\":\"665b103c-defd-4ced-a835-285f5cf3c569\"}}];\n",
       "  root.Bokeh.embed.embed_items_notebook(docs_json, render_items);\n",
       "\n",
       "  }\n",
       "  if (root.Bokeh !== undefined) {\n",
       "    embed_document(root);\n",
       "  } else {\n",
       "    var attempts = 0;\n",
       "    var timer = setInterval(function(root) {\n",
       "      if (root.Bokeh !== undefined) {\n",
       "        clearInterval(timer);\n",
       "        embed_document(root);\n",
       "      } else {\n",
       "        attempts++;\n",
       "        if (attempts > 100) {\n",
       "          clearInterval(timer);\n",
       "          console.log(\"Bokeh: ERROR: Unable to run BokehJS code because BokehJS library is missing\");\n",
       "        }\n",
       "      }\n",
       "    }, 10, root)\n",
       "  }\n",
       "})(window);"
      ],
      "application/vnd.bokehjs_exec.v0+json": ""
     },
     "metadata": {
      "application/vnd.bokehjs_exec.v0+json": {
       "id": "1377"
      }
     },
     "output_type": "display_data"
    }
   ],
   "source": [
    "show(Div(text='''Your <a href=\"https://en.wikipedia.org/wiki/HTML\">HTML</a>-supported text is initialized with the <b>text</b> argument.  The\n",
    "remaining div arguments are <b>width</b> and <b>height</b>. For this example, those values\n",
    "are <i>200</i> and <i>120</i> respectively.''',\n",
    "        width=200, height=120))"
   ]
  },
  {
   "cell_type": "code",
   "execution_count": 22,
   "metadata": {},
   "outputs": [
    {
     "data": {
      "text/html": [
       "\n",
       "\n",
       "\n",
       "\n",
       "\n",
       "\n",
       "  <div class=\"bk-root\" id=\"96a12a57-033b-4b14-a6a5-fb686a8a9ad6\" data-root-id=\"1401\"></div>\n"
      ]
     },
     "metadata": {},
     "output_type": "display_data"
    },
    {
     "data": {
      "application/javascript": [
       "(function(root) {\n",
       "  function embed_document(root) {\n",
       "    \n",
       "  var docs_json = {\"2527ccde-ff28-4e06-bf0d-d832f6afd3be\":{\"roots\":{\"references\":[{\"attributes\":{\"height\":120,\"text\":\"Your text is initialized with the 'text' argument.  The\\nremaining Paragraph arguments are 'width' and 'height'. For this example, those values\\nare 200 and 120 respectively.\",\"width\":200},\"id\":\"1401\",\"type\":\"Paragraph\"}],\"root_ids\":[\"1401\"]},\"title\":\"Bokeh Application\",\"version\":\"1.4.0\"}};\n",
       "  var render_items = [{\"docid\":\"2527ccde-ff28-4e06-bf0d-d832f6afd3be\",\"roots\":{\"1401\":\"96a12a57-033b-4b14-a6a5-fb686a8a9ad6\"}}];\n",
       "  root.Bokeh.embed.embed_items_notebook(docs_json, render_items);\n",
       "\n",
       "  }\n",
       "  if (root.Bokeh !== undefined) {\n",
       "    embed_document(root);\n",
       "  } else {\n",
       "    var attempts = 0;\n",
       "    var timer = setInterval(function(root) {\n",
       "      if (root.Bokeh !== undefined) {\n",
       "        clearInterval(timer);\n",
       "        embed_document(root);\n",
       "      } else {\n",
       "        attempts++;\n",
       "        if (attempts > 100) {\n",
       "          clearInterval(timer);\n",
       "          console.log(\"Bokeh: ERROR: Unable to run BokehJS code because BokehJS library is missing\");\n",
       "        }\n",
       "      }\n",
       "    }, 10, root)\n",
       "  }\n",
       "})(window);"
      ],
      "application/vnd.bokehjs_exec.v0+json": ""
     },
     "metadata": {
      "application/vnd.bokehjs_exec.v0+json": {
       "id": "1401"
      }
     },
     "output_type": "display_data"
    }
   ],
   "source": [
    "show(Paragraph(text='''Your text is initialized with the 'text' argument.  The\n",
    "remaining Paragraph arguments are 'width' and 'height'. For this example, those values\n",
    "are 200 and 120 respectively.''', width=200, height=120))"
   ]
  },
  {
   "cell_type": "code",
   "execution_count": 23,
   "metadata": {},
   "outputs": [
    {
     "data": {
      "text/html": [
       "\n",
       "\n",
       "\n",
       "\n",
       "\n",
       "\n",
       "  <div class=\"bk-root\" id=\"30367a66-dd36-4a4e-9697-70c32f0b24eb\" data-root-id=\"1425\"></div>\n"
      ]
     },
     "metadata": {},
     "output_type": "display_data"
    },
    {
     "data": {
      "application/javascript": [
       "(function(root) {\n",
       "  function embed_document(root) {\n",
       "    \n",
       "  var docs_json = {\"0af1c332-4ceb-439d-8bc7-13bb70129575\":{\"roots\":{\"references\":[{\"attributes\":{\"height\":100,\"text\":\"Your text is initialized with the 'text' argument.\\n\\nThe remaining Paragraph arguments are 'width' and 'height'. For this example,\\nthose values are 500 and 100 respectively.\",\"width\":500},\"id\":\"1425\",\"type\":\"PreText\"}],\"root_ids\":[\"1425\"]},\"title\":\"Bokeh Application\",\"version\":\"1.4.0\"}};\n",
       "  var render_items = [{\"docid\":\"0af1c332-4ceb-439d-8bc7-13bb70129575\",\"roots\":{\"1425\":\"30367a66-dd36-4a4e-9697-70c32f0b24eb\"}}];\n",
       "  root.Bokeh.embed.embed_items_notebook(docs_json, render_items);\n",
       "\n",
       "  }\n",
       "  if (root.Bokeh !== undefined) {\n",
       "    embed_document(root);\n",
       "  } else {\n",
       "    var attempts = 0;\n",
       "    var timer = setInterval(function(root) {\n",
       "      if (root.Bokeh !== undefined) {\n",
       "        clearInterval(timer);\n",
       "        embed_document(root);\n",
       "      } else {\n",
       "        attempts++;\n",
       "        if (attempts > 100) {\n",
       "          clearInterval(timer);\n",
       "          console.log(\"Bokeh: ERROR: Unable to run BokehJS code because BokehJS library is missing\");\n",
       "        }\n",
       "      }\n",
       "    }, 10, root)\n",
       "  }\n",
       "})(window);"
      ],
      "application/vnd.bokehjs_exec.v0+json": ""
     },
     "metadata": {
      "application/vnd.bokehjs_exec.v0+json": {
       "id": "1425"
      }
     },
     "output_type": "display_data"
    }
   ],
   "source": [
    "show(PreText(text='''Your text is initialized with the 'text' argument.\n",
    "\n",
    "The remaining Paragraph arguments are 'width' and 'height'. For this example,\n",
    "those values are 500 and 100 respectively.''', width=500, height=100))"
   ]
  },
  {
   "cell_type": "code",
   "execution_count": null,
   "metadata": {},
   "outputs": [],
   "source": []
  }
 ],
 "metadata": {
  "kernelspec": {
   "display_name": "Python 3",
   "language": "python",
   "name": "python3"
  },
  "language_info": {
   "codemirror_mode": {
    "name": "ipython",
    "version": 3
   },
   "file_extension": ".py",
   "mimetype": "text/x-python",
   "name": "python",
   "nbconvert_exporter": "python",
   "pygments_lexer": "ipython3",
   "version": "3.7.6"
  }
 },
 "nbformat": 4,
 "nbformat_minor": 4
}
