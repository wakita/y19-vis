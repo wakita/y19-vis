{
 "cells": [
  {
   "cell_type": "markdown",
   "metadata": {},
   "source": [
    "# Pandas\n",
    "\n",
    "`pandas` を用いたデータ処理について学ぶ。"
   ]
  },
  {
   "cell_type": "markdown",
   "metadata": {},
   "source": [
    "## パッケージ\n",
    "\n",
    "この実習で用いるパッケージ群を読み込む。\n",
    "\n",
    "- `numpy`: Python において準標準的に用いられる行列ライブラリ。Lapack で高速化されているため効率がよい。\n",
    "\n",
    "- `pandas`: 表のデータを処理するために標準的に用いられるライブラリ。CSVファイル、Excelファイルなどの読み込みにも用いられる。"
   ]
  },
  {
   "cell_type": "code",
   "execution_count": 1,
   "metadata": {},
   "outputs": [],
   "source": [
    "from IPython.core.display import display, HTML, Markdown\n",
    "import numpy as np\n",
    "import pandas as pd\n",
    "\n",
    "pd.options.display.max_rows = 8"
   ]
  },
  {
   "cell_type": "markdown",
   "metadata": {},
   "source": [
    "## Python のリスト\n",
    "\n",
    "- `len(l)`: リストの長さ\n",
    "\n",
    "### Python のリストは 0-indexed\n",
    "- `l[0]`, `l[1]`, `l[9]`: それぞれ先頭から1, 2, 10番目の要素\n",
    "\n",
    "### スライス\n",
    "\n",
    "- `l[0:7]`: 先頭の7要素\n",
    "- `l[3:7]`: 先頭から4, 5, 6, 7番目の要素\n",
    "- `l[7:]`: 8番目以降の要素\n",
    "- `l[3:10:2]`: 先頭から4, 6, 8, 10 番目の要素\n",
    "- `l[3:10:3]`: 先頭から4, 7, 10番目の要素\n",
    "- `l[1::2]`: 2番目以降から要素を1つ跳ばしに抽出\n",
    "- `l[1::3]`: 2番目以降から要素を2つ跳ばしに抽出\n",
    "\n",
    "### 後ろから#番目の要素\n",
    "- `l[-1]`: 一番後ろの要素\n",
    "- `l[-2]`: 後ろから2番目の要素\n",
    "- `l[-3:]`: 後ろから3番目以降の要素\n",
    "- `l[-5::2]`: 後ろから5番目以降の要素から要素を1つ跳ばしに抽出\n",
    "- `l[2:-2]`: 先頭から3番目から始めて後ろから3番目の要素まで"
   ]
  },
  {
   "cell_type": "code",
   "execution_count": 2,
   "metadata": {},
   "outputs": [
    {
     "name": "stdout",
     "output_type": "stream",
     "text": [
      "len(l): 10\n",
      "l[0]: 1\n",
      "l[1], l[9]: 2 10\n",
      "l[0:7]: [1, 2, 3, 4, 5, 6, 7]\n",
      "l[3:7]: [4, 5, 6, 7]\n",
      "l[7:]: [8, 9, 10]\n",
      "l[3:10:2]: [4, 6, 8, 10]\n",
      "l[3:10:3]: [4, 7, 10]\n",
      "l[1::2]: [2, 4, 6, 8, 10]\n",
      "l[1::3]: [2, 5, 8]\n",
      "l[-1]: 10\n",
      "l[-2]: 9\n",
      "l[-3:]: [8, 9, 10]\n",
      "l[-5::2]: [6, 8, 10]\n",
      "l[2:-2]: [3, 4, 5, 6, 7, 8]\n"
     ]
    }
   ],
   "source": [
    "l = [1, 2, 3, 4, 5, 6, 7, 8, 9, 10]\n",
    "\n",
    "print('len(l):', len(l))\n",
    "\n",
    "print('l[0]:', l[0])\n",
    "print('l[1], l[9]:', l[1], l[9])\n",
    "\n",
    "print('l[0:7]:', l[0:7])\n",
    "print('l[3:7]:', l[3:7])\n",
    "print('l[7:]:', l[7:])\n",
    "\n",
    "print('l[3:10:2]:', l[3:10:2])\n",
    "print('l[3:10:3]:', l[3:10:3])\n",
    "print('l[1::2]:', l[1::2])\n",
    "print('l[1::3]:', l[1::3])\n",
    "\n",
    "print('l[-1]:', l[-1])\n",
    "print('l[-2]:', l[-2])\n",
    "print('l[-3:]:', l[-3:])\n",
    "print('l[-5::2]:', l[-5::2])\n",
    "print('l[2:-2]:', l[2:-2])"
   ]
  },
  {
   "cell_type": "markdown",
   "metadata": {},
   "source": [
    "## Excel ファイルの読み込み\n",
    "\n",
    "`pandas` を用いて [Social Progress Index (SPI)](https://www.socialprogress.org) のデータを保存した Excel ファイル (`spi.xlsx`) を読み込み `xlsx` という変数に保存する。このファイルは複数のシートから構成されており、`xlsx` の `keys()` メソッドにより参照できる。"
   ]
  },
  {
   "cell_type": "code",
   "execution_count": 3,
   "metadata": {},
   "outputs": [
    {
     "data": {
      "text/plain": [
       "odict_keys(['FILE NOTES', '2018', '2017', '2016', '2015', '2014', 'Indicator definitions'])"
      ]
     },
     "execution_count": 3,
     "metadata": {},
     "output_type": "execute_result"
    }
   ],
   "source": [
    "xlsx = pd.read_excel('spi.xlsx', sheet_name=None)\n",
    "xlsx.keys()"
   ]
  },
  {
   "cell_type": "markdown",
   "metadata": {},
   "source": [
    "SPIデータは国連に加盟する国と地域を54個の指標を用いて比較したものである。このデータは2014年から2018年のデータを含んでいる。\n",
    "\n",
    "`spi2018` は2018年版の SPI の表を保持している。"
   ]
  },
  {
   "cell_type": "code",
   "execution_count": 4,
   "metadata": {},
   "outputs": [],
   "source": [
    "spi2018 = xlsx['2018']\n",
    "indices = list(spi2018.keys())"
   ]
  },
  {
   "cell_type": "markdown",
   "metadata": {},
   "source": [
    "この表は 69 個の列を含む。先頭の2列は国や地域の名称とコードを与えている。表には全部で236個の国と地域のデータを含んでいる。以下の例ではこのうち先頭の5つの国と地域 (Afghanistan, Angola, Albania, United Arab Emirates, Argentina) のデータの一部を表示する。\n",
    "\n",
    "表は、それぞれの国と地域についてのデータなど、67個の列から構成されている。これらのうち、先頭の2列は国名であり、後ろの方の54個は基礎指標である。残りは基礎指標を集計した抽象化された指標である。列は `spi2018.keys()` によって得られる。\n",
    "\n",
    "以下の例では、表の列のうち先頭の5つを表示している。なお、Pandas の表は Python のリストと類似したスライス記法に対応している。`[:n]` はリスト等の構造の先頭の $n$ 個の要素群、`[n:]` はn番目の要素以降の要素群を指す。また、要素のインデックスとして負の値はリスト等の構造の後ろからn個目の要素を指す。たとえば要素数10のリストxに関して、`x[-3]` はこのリストの最後の3要素からなるリストとなる。"
   ]
  },
  {
   "cell_type": "code",
   "execution_count": 5,
   "metadata": {},
   "outputs": [
    {
     "name": "stdout",
     "output_type": "stream",
     "text": [
      "#SPI Indices = 69\n",
      "  - Country\n",
      "  - Code\n",
      "  - Social Progress Index\n",
      "  - Basic Human Needs\n",
      "  - Foundations of Wellbeing\n",
      "  - Opportunity,\n",
      "    ...,\n",
      "  - Equality of political power by social group (0=unequal power; 4=equal power)\n",
      "  - Years of tertiary schooling\n",
      "  - Women's average years in school\n",
      "  - Globally ranked universities (points)\n",
      "  - Percent of tertiary students enrolled in globally ranked universities \n",
      "\n",
      "0                    Afghanistan\n",
      "1                         Angola\n",
      "2                        Albania\n",
      "3           United Arab Emirates\n",
      "                 ...            \n",
      "232    Wallis and Futuna Islands\n",
      "233                        Samoa\n",
      "234                        Syria\n",
      "235                    Venezuela\n",
      "Name: Country, Length: 236, dtype: object \n",
      "\n",
      "0      AFG\n",
      "1      AGO\n",
      "2      ALB\n",
      "3      ARE\n",
      "      ... \n",
      "232    WLF\n",
      "233    WSM\n",
      "234    SYR\n",
      "235    VEN\n",
      "Name: Code, Length: 236, dtype: object \n",
      "\n"
     ]
    },
    {
     "data": {
      "text/html": [
       "<div>\n",
       "<style scoped>\n",
       "    .dataframe tbody tr th:only-of-type {\n",
       "        vertical-align: middle;\n",
       "    }\n",
       "\n",
       "    .dataframe tbody tr th {\n",
       "        vertical-align: top;\n",
       "    }\n",
       "\n",
       "    .dataframe thead th {\n",
       "        text-align: right;\n",
       "    }\n",
       "</style>\n",
       "<table border=\"1\" class=\"dataframe\">\n",
       "  <thead>\n",
       "    <tr style=\"text-align: right;\">\n",
       "      <th></th>\n",
       "      <th>Country</th>\n",
       "      <th>Code</th>\n",
       "      <th>Social Progress Index</th>\n",
       "      <th>Basic Human Needs</th>\n",
       "    </tr>\n",
       "  </thead>\n",
       "  <tbody>\n",
       "    <tr>\n",
       "      <th>0</th>\n",
       "      <td>Afghanistan</td>\n",
       "      <td>AFG</td>\n",
       "      <td>32.96</td>\n",
       "      <td>41.50</td>\n",
       "    </tr>\n",
       "    <tr>\n",
       "      <th>1</th>\n",
       "      <td>Angola</td>\n",
       "      <td>AGO</td>\n",
       "      <td>39.10</td>\n",
       "      <td>45.68</td>\n",
       "    </tr>\n",
       "    <tr>\n",
       "      <th>2</th>\n",
       "      <td>Albania</td>\n",
       "      <td>ALB</td>\n",
       "      <td>71.77</td>\n",
       "      <td>84.59</td>\n",
       "    </tr>\n",
       "    <tr>\n",
       "      <th>3</th>\n",
       "      <td>United Arab Emirates</td>\n",
       "      <td>ARE</td>\n",
       "      <td>74.34</td>\n",
       "      <td>88.65</td>\n",
       "    </tr>\n",
       "    <tr>\n",
       "      <th>4</th>\n",
       "      <td>Argentina</td>\n",
       "      <td>ARG</td>\n",
       "      <td>74.98</td>\n",
       "      <td>82.48</td>\n",
       "    </tr>\n",
       "  </tbody>\n",
       "</table>\n",
       "</div>"
      ],
      "text/plain": [
       "                Country Code  Social Progress Index  Basic Human Needs\n",
       "0           Afghanistan  AFG                  32.96              41.50\n",
       "1                Angola  AGO                  39.10              45.68\n",
       "2               Albania  ALB                  71.77              84.59\n",
       "3  United Arab Emirates  ARE                  74.34              88.65\n",
       "4             Argentina  ARG                  74.98              82.48"
      ]
     },
     "metadata": {},
     "output_type": "display_data"
    },
    {
     "name": "stdout",
     "output_type": "stream",
     "text": [
      "\n",
      "#Contries & Regions = 236 : ['Afghanistan', 'Angola', 'Albania', 'United Arab Emirates', 'Argentina', 'Armenia', 'Australia', 'Austria', 'Burundi', 'Belgium', 'Benin', 'Burkina Faso', 'Bangladesh', 'Bulgaria', 'Belarus', 'Bolivia', 'Brazil', 'Barbados', 'Bhutan', 'Botswana', 'Central African Republic', 'Canada', 'Switzerland', 'Chile', 'China', \"Côte d'Ivoire\", 'Cameroon', 'Congo, Democratic Republic of', 'Congo, Republic of', 'Colombia', 'Comoros', 'Cabo Verde', 'Costa Rica', 'Cuba', 'Cyprus', 'Czech Republic', 'Germany', 'Djibouti', 'Denmark', 'Dominican Republic', 'Algeria', 'Ecuador', 'Egypt', 'Eritrea', 'Spain', 'Estonia', 'Ethiopia', 'Finland', 'Fiji', 'France', 'United Kingdom', 'Georgia', 'Ghana', 'Guinea', 'Gambia, The', 'Greece', 'Guatemala', 'Guyana', 'Honduras', 'Croatia', 'Hungary', 'Indonesia', 'India', 'Ireland', 'Iran', 'Iceland', 'Israel', 'Italy', 'Jordan', 'Japan', 'Kazakhstan', 'Kenya', 'Kyrgyzstan', 'Cambodia', 'Korea, Republic of', 'Laos', 'Lebanon', 'Liberia', 'Sri Lanka', 'Lesotho', 'Lithuania', 'Luxembourg', 'Latvia', 'Morocco', 'Moldova', 'Madagascar', 'Mexico', 'Macedonia', 'Mali', 'Myanmar', 'Montenegro', 'Mongolia', 'Mozambique', 'Mauritania', 'Mauritius', 'Malawi', 'Malaysia', 'Niger', 'Nigeria', 'Nicaragua', 'Netherlands', 'Norway', 'Nepal', 'New Zealand', 'Oman', 'Pakistan', 'Panama', 'Peru', 'Philippines', 'Papua New Guinea', 'Poland', 'Portugal', 'Paraguay', 'Qatar', 'Romania', 'Russia', 'Rwanda', 'Saudi Arabia', 'Sudan', 'Senegal', 'Singapore', 'Solomon Islands', 'Sierra Leone', 'El Salvador', 'Serbia', 'Sao Tome and Principe', 'Suriname', 'Slovakia', 'Slovenia', 'Sweden', 'Swaziland', 'Chad', 'Togo', 'Thailand', 'Tajikistan', 'Timor-Leste', 'Tunisia', 'Turkey', 'Tanzania', 'Ukraine', 'Uruguay', 'United States', 'Uzbekistan', 'Yemen', 'South Africa', 'Zimbabwe', 'Azerbaijan', 'Bahrain', 'Bosnia and Herzegovina', 'Gabon', 'Guinea-Bissau', 'Equatorial Guinea', 'Haiti', 'Iraq', 'Jamaica', 'Kuwait', 'Libya', 'Maldives', 'Malta', 'Namibia', 'Korea, Democratic Republic of', 'Somalia', 'South Sudan', 'Seychelles', 'Turkmenistan', 'Trinidad and Tobago', 'Taiwan', 'Uganda', 'Vietnam', 'Vanuatu', 'Zambia', 'Aruba', 'Anguilla', 'Andorra', 'American Samoa', 'Antigua and Barbuda', 'Bahamas, The', 'Belize', 'Bermuda', 'Brunei Darussalam', 'Channel Islands', 'Cook Islands', 'Curaçao', 'Cayman Islands', 'Dominica', 'Western Sahara', 'Falkland Islands', 'Faroe Islands', 'Micronesia', 'Guernsey', 'Gibraltar', 'Guadeloupe', 'Grenada', 'Greenland', 'French Guiana', 'Guam', 'Hong Kong', 'Jersey', 'Kiribati', 'St. Kitts and Nevis', 'Kosovo', 'St. Lucia', 'Liechtenstein', 'Macao', 'St. Martin', 'Monaco', 'Marshall Islands', 'Northern Mariana Islands', 'Montserrat', 'Martinique', 'Mayotte', 'New Caledonia', 'North Cyprus', 'Niue', 'Nauru', 'Palau', 'Puerto Rico', 'French Polynesia', 'Réunion', 'St. Helena', 'Somaliland', 'San Marino', 'St. Pierre and Miquelon', 'Turks and Caicos Islands', 'Tokelau', 'Tonga', 'Tuvalu', 'Vatican City', 'St. Vincent and the Grenadines', 'British Virgin Islands', 'Virgin Islands (U.S.)', 'West Bank and Gaza', 'Wallis and Futuna Islands', 'Samoa', 'Syria', 'Venezuela']\n"
     ]
    }
   ],
   "source": [
    "# SPI 指標の列挙\n",
    "print('#SPI Indices = ' + str(len(indices)) + '\\n  - ' +\n",
    "      '\\n  - '.join(indices[:6]) +\n",
    "      ',\\n    ...,\\n  - ' +\n",
    "      '\\n  - '.join(indices[-5:]), '\\n')\n",
    "\n",
    "print(spi2018['Country'], '\\n')\n",
    "print(spi2018['Code'], '\\n')\n",
    "\n",
    "# 表の一部の表示\n",
    "indices4 = indices[:4]  # 最初の4列の名前からなるリスト\n",
    "display(spi2018[indices[:4]][:5])\n",
    "\n",
    "# 表に含まれる国と地域の数を表示\n",
    "print('\\n#Contries & Regions =', len(spi2018['Country']), ':', list(spi2018['Country']))"
   ]
  },
  {
   "cell_type": "markdown",
   "metadata": {},
   "source": [
    "## 行を指定して取得\n",
    "\n",
    "列の値についての論理式を記述することで表の行に対するマスクを作成することができる。たとえば、以下の式は各国と地域についての真理値となり、Albania は真値、その他の国と地域は偽値をとる。\n",
    "\n",
    "> spi2018['Country'] == 'Albania'\n",
    "\n",
    "このような真理値をマスクとして `spi2018` に適用することによって、以下のように真値に該当する行のみを取り出すことができる。\n",
    "\n",
    "> spi2018[spi2018['Country'] == 'Albania']"
   ]
  },
  {
   "cell_type": "code",
   "execution_count": 6,
   "metadata": {},
   "outputs": [
    {
     "name": "stdout",
     "output_type": "stream",
     "text": [
      "0      32.96\n",
      "1      39.10\n",
      "2      71.77\n",
      "3      74.34\n",
      "       ...  \n",
      "232      NaN\n",
      "233      NaN\n",
      "234      NaN\n",
      "235      NaN\n",
      "Name: Social Progress Index, Length: 236, dtype: float64 \n",
      "\n",
      "0      False\n",
      "1      False\n",
      "2       True\n",
      "3      False\n",
      "       ...  \n",
      "232    False\n",
      "233    False\n",
      "234    False\n",
      "235    False\n",
      "Name: Country, Length: 236, dtype: bool\n"
     ]
    },
    {
     "data": {
      "text/html": [
       "<div>\n",
       "<style scoped>\n",
       "    .dataframe tbody tr th:only-of-type {\n",
       "        vertical-align: middle;\n",
       "    }\n",
       "\n",
       "    .dataframe tbody tr th {\n",
       "        vertical-align: top;\n",
       "    }\n",
       "\n",
       "    .dataframe thead th {\n",
       "        text-align: right;\n",
       "    }\n",
       "</style>\n",
       "<table border=\"1\" class=\"dataframe\">\n",
       "  <thead>\n",
       "    <tr style=\"text-align: right;\">\n",
       "      <th></th>\n",
       "      <th>Country</th>\n",
       "      <th>Code</th>\n",
       "      <th>Social Progress Index</th>\n",
       "      <th>Basic Human Needs</th>\n",
       "      <th>Foundations of Wellbeing</th>\n",
       "      <th>Opportunity</th>\n",
       "      <th>Nutrition and Basic Medical Care</th>\n",
       "    </tr>\n",
       "  </thead>\n",
       "  <tbody>\n",
       "    <tr>\n",
       "      <th>2</th>\n",
       "      <td>Albania</td>\n",
       "      <td>ALB</td>\n",
       "      <td>71.77</td>\n",
       "      <td>84.59</td>\n",
       "      <td>80.77</td>\n",
       "      <td>49.94</td>\n",
       "      <td>91.66</td>\n",
       "    </tr>\n",
       "  </tbody>\n",
       "</table>\n",
       "</div>"
      ],
      "text/plain": [
       "   Country Code  Social Progress Index  Basic Human Needs  \\\n",
       "2  Albania  ALB                  71.77              84.59   \n",
       "\n",
       "   Foundations of Wellbeing  Opportunity  Nutrition and Basic Medical Care  \n",
       "2                     80.77        49.94                             91.66  "
      ]
     },
     "metadata": {},
     "output_type": "display_data"
    },
    {
     "data": {
      "text/plain": [
       "'\\n'"
      ]
     },
     "metadata": {},
     "output_type": "display_data"
    },
    {
     "data": {
      "text/plain": [
       "0      False\n",
       "1      False\n",
       "2      False\n",
       "3      False\n",
       "       ...  \n",
       "232    False\n",
       "233    False\n",
       "234    False\n",
       "235    False\n",
       "Name: Country, Length: 236, dtype: bool"
      ]
     },
     "metadata": {},
     "output_type": "display_data"
    },
    {
     "data": {
      "text/html": [
       "<div>\n",
       "<style scoped>\n",
       "    .dataframe tbody tr th:only-of-type {\n",
       "        vertical-align: middle;\n",
       "    }\n",
       "\n",
       "    .dataframe tbody tr th {\n",
       "        vertical-align: top;\n",
       "    }\n",
       "\n",
       "    .dataframe thead th {\n",
       "        text-align: right;\n",
       "    }\n",
       "</style>\n",
       "<table border=\"1\" class=\"dataframe\">\n",
       "  <thead>\n",
       "    <tr style=\"text-align: right;\">\n",
       "      <th></th>\n",
       "      <th>Country</th>\n",
       "      <th>Code</th>\n",
       "      <th>Social Progress Index</th>\n",
       "      <th>Basic Human Needs</th>\n",
       "      <th>Foundations of Wellbeing</th>\n",
       "    </tr>\n",
       "  </thead>\n",
       "  <tbody>\n",
       "    <tr>\n",
       "      <th>61</th>\n",
       "      <td>Indonesia</td>\n",
       "      <td>IDN</td>\n",
       "      <td>63.26</td>\n",
       "      <td>74.13</td>\n",
       "      <td>64.70</td>\n",
       "    </tr>\n",
       "    <tr>\n",
       "      <th>62</th>\n",
       "      <td>India</td>\n",
       "      <td>IND</td>\n",
       "      <td>56.26</td>\n",
       "      <td>63.02</td>\n",
       "      <td>59.26</td>\n",
       "    </tr>\n",
       "    <tr>\n",
       "      <th>63</th>\n",
       "      <td>Ireland</td>\n",
       "      <td>IRL</td>\n",
       "      <td>88.82</td>\n",
       "      <td>95.03</td>\n",
       "      <td>89.14</td>\n",
       "    </tr>\n",
       "    <tr>\n",
       "      <th>64</th>\n",
       "      <td>Iran</td>\n",
       "      <td>IRN</td>\n",
       "      <td>63.96</td>\n",
       "      <td>81.58</td>\n",
       "      <td>69.51</td>\n",
       "    </tr>\n",
       "    <tr>\n",
       "      <th>...</th>\n",
       "      <td>...</td>\n",
       "      <td>...</td>\n",
       "      <td>...</td>\n",
       "      <td>...</td>\n",
       "      <td>...</td>\n",
       "    </tr>\n",
       "    <tr>\n",
       "      <th>67</th>\n",
       "      <td>Italy</td>\n",
       "      <td>ITA</td>\n",
       "      <td>86.04</td>\n",
       "      <td>91.49</td>\n",
       "      <td>90.28</td>\n",
       "    </tr>\n",
       "    <tr>\n",
       "      <th>69</th>\n",
       "      <td>Japan</td>\n",
       "      <td>JPN</td>\n",
       "      <td>89.74</td>\n",
       "      <td>97.78</td>\n",
       "      <td>94.66</td>\n",
       "    </tr>\n",
       "    <tr>\n",
       "      <th>153</th>\n",
       "      <td>Iraq</td>\n",
       "      <td>IRQ</td>\n",
       "      <td>NaN</td>\n",
       "      <td>73.12</td>\n",
       "      <td>NaN</td>\n",
       "    </tr>\n",
       "    <tr>\n",
       "      <th>154</th>\n",
       "      <td>Jamaica</td>\n",
       "      <td>JAM</td>\n",
       "      <td>NaN</td>\n",
       "      <td>80.08</td>\n",
       "      <td>NaN</td>\n",
       "    </tr>\n",
       "  </tbody>\n",
       "</table>\n",
       "<p>9 rows × 5 columns</p>\n",
       "</div>"
      ],
      "text/plain": [
       "       Country Code  Social Progress Index  Basic Human Needs  \\\n",
       "61   Indonesia  IDN                  63.26              74.13   \n",
       "62       India  IND                  56.26              63.02   \n",
       "63     Ireland  IRL                  88.82              95.03   \n",
       "64        Iran  IRN                  63.96              81.58   \n",
       "..         ...  ...                    ...                ...   \n",
       "67       Italy  ITA                  86.04              91.49   \n",
       "69       Japan  JPN                  89.74              97.78   \n",
       "153       Iraq  IRQ                    NaN              73.12   \n",
       "154    Jamaica  JAM                    NaN              80.08   \n",
       "\n",
       "     Foundations of Wellbeing  \n",
       "61                      64.70  \n",
       "62                      59.26  \n",
       "63                      89.14  \n",
       "64                      69.51  \n",
       "..                        ...  \n",
       "67                      90.28  \n",
       "69                      94.66  \n",
       "153                       NaN  \n",
       "154                       NaN  \n",
       "\n",
       "[9 rows x 5 columns]"
      ]
     },
     "metadata": {},
     "output_type": "display_data"
    }
   ],
   "source": [
    "print(spi2018['Social Progress Index'], '\\n')\n",
    "\n",
    "# 国名が Albania に一致するか否かでマスクを作成する。\n",
    "print(spi2018['Country'] == 'Albania')\n",
    "\n",
    "# 上述の論理値をマスクとして適用し Albania の指標データを取得。\n",
    "display(spi2018[spi2018['Country'] == 'Albania'][indices[:7]], '\\n')\n",
    "\n",
    "# India, Ireland, ..., Japan を抽出するマスク\n",
    "display((spi2018['Country'] >= 'India') & (spi2018['Country'] <= 'Japan'))\n",
    "\n",
    "# India, Ireland, ..., Japan のデータを取得する\n",
    "display(spi2018[(spi2018['Country'] >= 'India') & (spi2018['Country'] <= 'Japan')][indices[:5]])"
   ]
  },
  {
   "cell_type": "markdown",
   "metadata": {},
   "source": [
    "## 課題\n",
    "\n",
    "1. 日本とNorwayのデータを表示しなさい。\n",
    "2. 日本とNorwayのデータのうち Basic Human Needs, Foundations of Wellbeing, Opportunity の列を表示しなさい。"
   ]
  },
  {
   "cell_type": "code",
   "execution_count": 7,
   "metadata": {},
   "outputs": [],
   "source": [
    "# 課題の回答"
   ]
  },
  {
   "cell_type": "markdown",
   "metadata": {},
   "source": [
    "## 最高値の取得\n",
    "\n",
    "`max` メソッドにより表の最高値を取得でき、`idxmax` メソッドにより最高値を与える行番号を取得できる。\n",
    "\n",
    "`loc` メソッドを用いることで、複数の行番号 (`i`, `j`, `k`) を指定して、その行のデータを `spi2018.loc[[i, j, k]]` で取得できる。\n",
    "\n",
    "以下の例が示すように、Social Progress Index について最高値となる国は Norway である。"
   ]
  },
  {
   "cell_type": "code",
   "execution_count": 8,
   "metadata": {},
   "outputs": [
    {
     "name": "stdout",
     "output_type": "stream",
     "text": [
      "90.26 101\n"
     ]
    },
    {
     "data": {
      "text/html": [
       "<div>\n",
       "<style scoped>\n",
       "    .dataframe tbody tr th:only-of-type {\n",
       "        vertical-align: middle;\n",
       "    }\n",
       "\n",
       "    .dataframe tbody tr th {\n",
       "        vertical-align: top;\n",
       "    }\n",
       "\n",
       "    .dataframe thead th {\n",
       "        text-align: right;\n",
       "    }\n",
       "</style>\n",
       "<table border=\"1\" class=\"dataframe\">\n",
       "  <thead>\n",
       "    <tr style=\"text-align: right;\">\n",
       "      <th></th>\n",
       "      <th>Country</th>\n",
       "      <th>Code</th>\n",
       "      <th>Social Progress Index</th>\n",
       "      <th>Basic Human Needs</th>\n",
       "      <th>Foundations of Wellbeing</th>\n",
       "      <th>Opportunity</th>\n",
       "      <th>Nutrition and Basic Medical Care</th>\n",
       "    </tr>\n",
       "  </thead>\n",
       "  <tbody>\n",
       "    <tr>\n",
       "      <th>101</th>\n",
       "      <td>Norway</td>\n",
       "      <td>NOR</td>\n",
       "      <td>90.26</td>\n",
       "      <td>96.62</td>\n",
       "      <td>93.19</td>\n",
       "      <td>80.97</td>\n",
       "      <td>99.0</td>\n",
       "    </tr>\n",
       "  </tbody>\n",
       "</table>\n",
       "</div>"
      ],
      "text/plain": [
       "    Country Code  Social Progress Index  Basic Human Needs  \\\n",
       "101  Norway  NOR                  90.26              96.62   \n",
       "\n",
       "     Foundations of Wellbeing  Opportunity  Nutrition and Basic Medical Care  \n",
       "101                     93.19        80.97                              99.0  "
      ]
     },
     "execution_count": 8,
     "metadata": {},
     "output_type": "execute_result"
    }
   ],
   "source": [
    "SPI = 'Social Progress Index'\n",
    "print(spi2018[SPI].max(), spi2018[SPI].idxmax())\n",
    "i = spi2018[SPI].idxmax()\n",
    "spi2018.loc[[i]][indices[:7]]"
   ]
  },
  {
   "cell_type": "markdown",
   "metadata": {},
   "source": [
    "## 課題\n",
    "\n",
    "以下の4つの指標について最大値を与える国々それぞれについて、国名と4つの指標を表示しなさい。\n",
    "\n",
    "- Social Progress Index\n",
    "- Basic Human Needs\n",
    "- Foundations of Wellbeing\n",
    "- Opportunity"
   ]
  },
  {
   "cell_type": "code",
   "execution_count": 9,
   "metadata": {},
   "outputs": [],
   "source": [
    "# 課題の回答"
   ]
  },
  {
   "cell_type": "markdown",
   "metadata": {},
   "source": [
    "## 課題\n",
    "\n",
    "前問の4つの指標について、平均値 ([mean](http://pandas.pydata.org/pandas-docs/stable/reference/api/pandas.DataFrame.mean.html#pandas.DataFrame.mean))と標準偏差([std](http://pandas.pydata.org/pandas-docs/stable/reference/api/pandas.DataFrame.std.html#pandas.DataFrame.std))を表示しなさい。"
   ]
  },
  {
   "cell_type": "code",
   "execution_count": 10,
   "metadata": {},
   "outputs": [],
   "source": [
    "# 課題の回答"
   ]
  },
  {
   "cell_type": "markdown",
   "metadata": {},
   "source": [
    "## 課題\n",
    "\n",
    "Social Progress Index に関して各国の偏差値を求めなさい。\n",
    "\n",
    "Norway, Japan, United States の Social Progress Index 値と偏差値を表示しなさい。\n",
    "\n",
    "**ヒント**: Social Progress Index が提供されておらず `NaN` となっている国が気になるかと思う。このようなこのような国々について `mean` も `std` もこのような値は無視して計算する。詳しくは [mean](http://pandas.pydata.org/pandas-docs/stable/reference/api/pandas.DataFrame.mean.html#pandas.DataFrame.mean), [std](http://pandas.pydata.org/pandas-docs/stable/reference/api/pandas.DataFrame.std.html#pandas.DataFrame.std) の `skipna` パラメタの説明を参照のこと。\n",
    "\n",
    "**ヒント**: [merge](http://pandas.pydata.org/pandas-docs/stable/reference/api/pandas.DataFrame.merge.html#pandas.DataFrame.merge) メソッドを用いて国名の表と偏差値の表を合併してもよい。"
   ]
  },
  {
   "cell_type": "code",
   "execution_count": 11,
   "metadata": {},
   "outputs": [],
   "source": [
    "# 課題の回答"
   ]
  }
 ],
 "metadata": {
  "kernelspec": {
   "display_name": "Python 3",
   "language": "python",
   "name": "python3"
  },
  "language_info": {
   "codemirror_mode": {
    "name": "ipython",
    "version": 3
   },
   "file_extension": ".py",
   "mimetype": "text/x-python",
   "name": "python",
   "nbconvert_exporter": "python",
   "pygments_lexer": "ipython3",
   "version": "3.7.3"
  }
 },
 "nbformat": 4,
 "nbformat_minor": 4
}
