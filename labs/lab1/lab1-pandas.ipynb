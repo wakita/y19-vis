{
 "cells": [
  {
   "cell_type": "markdown",
   "metadata": {},
   "source": [
    "# Pandas\n",
    "\n",
    "`pandas` を用いたデータ処理について学ぶ。"
   ]
  },
  {
   "cell_type": "markdown",
   "metadata": {},
   "source": [
    "## パッケージ\n",
    "\n",
    "この実習で用いるパッケージ群を読み込む。`conda install jupyterlab pandas` などでインストールできる。\n",
    "\n",
    "- `jupyterlab`: この編集・実行環境\n",
    "\n",
    "- `numpy`: Python において準標準的に用いられる行列ライブラリ。Lapack で高速化されているため効率がよい。\n",
    "\n",
    "- `pandas`: 表のデータを処理するために標準的に用いられるライブラリ。CSVファイル、Excelファイルなどの読み込みにも用いられる。\n",
    "\n",
    "# リポジトリ\n",
    "\n",
    "[https://github.com/wakita/y19-vis](https://github.com/wakita/y19-vis)"
   ]
  },
  {
   "cell_type": "code",
   "execution_count": null,
   "metadata": {},
   "outputs": [],
   "source": [
    "from IPython.core.display import display, HTML, Markdown\n",
    "import numpy as np\n",
    "import pandas as pd\n",
    "\n",
    "pd.options.display.max_rows = 8"
   ]
  },
  {
   "cell_type": "markdown",
   "metadata": {},
   "source": [
    "## Python のリスト\n",
    "\n",
    "- `len(l)`: リストの長さ\n",
    "\n",
    "### Python のリストは 0-indexed\n",
    "- `l[0]`, `l[1]`, `l[9]`: それぞれ先頭から1, 2, 10番目の要素\n",
    "\n",
    "### スライス\n",
    "\n",
    "- `l[0:7]`: 先頭の7要素\n",
    "- `l[3:7]`: 先頭から4, 5, 6, 7番目の要素\n",
    "- `l[7:]`: 8番目以降の要素\n",
    "- `l[3:10:2]`: 先頭から4, 6, 8, 10 番目の要素\n",
    "- `l[3:10:3]`: 先頭から4, 7, 10番目の要素\n",
    "- `l[1::2]`: 2番目以降から要素を1つ跳ばしに抽出\n",
    "- `l[1::3]`: 2番目以降から要素を2つ跳ばしに抽出\n",
    "\n",
    "### 後ろから#番目の要素\n",
    "- `l[-1]`: 一番後ろの要素\n",
    "- `l[-2]`: 後ろから2番目の要素\n",
    "- `l[-3:]`: 後ろから3番目以降の要素\n",
    "- `l[-5::2]`: 後ろから5番目以降の要素から要素を1つ跳ばしに抽出\n",
    "- `l[2:-2]`: 先頭から3番目から始めて後ろから3番目の要素まで"
   ]
  },
  {
   "cell_type": "code",
   "execution_count": null,
   "metadata": {},
   "outputs": [],
   "source": [
    "l = [1, 2, 3, 4, 5, 6, 7, 8, 9, 10]\n",
    "\n",
    "print('len(l):', len(l))\n",
    "\n",
    "print('l[0]:', l[0])\n",
    "print('l[1], l[9]:', l[1], l[9])\n",
    "\n",
    "print('l[0:7]:', l[0:7])\n",
    "print('l[3:7]:', l[3:7])\n",
    "print('l[7:]:', l[7:])\n",
    "\n",
    "print('l[3:10:2]:', l[3:10:2])\n",
    "print('l[3:10:3]:', l[3:10:3])\n",
    "print('l[1::2]:', l[1::2])\n",
    "print('l[1::3]:', l[1::3])\n",
    "\n",
    "print('l[-1]:', l[-1])\n",
    "print('l[-2]:', l[-2])\n",
    "print('l[-3:]:', l[-3:])\n",
    "print('l[-5::2]:', l[-5::2])\n",
    "print('l[2:-2]:', l[2:-2])"
   ]
  },
  {
   "cell_type": "markdown",
   "metadata": {},
   "source": [
    "## Excel ファイルの読み込み\n",
    "\n",
    "`pandas` を用いて [Social Progress Index (SPI)](https://www.socialprogress.org) のデータを保存した Excel ファイル (`spi.xlsx`) を読み込み `xlsx` という変数に保存する。このファイルは複数のシートから構成されており、`xlsx` の `keys()` メソッドにより参照できる。"
   ]
  },
  {
   "cell_type": "code",
   "execution_count": null,
   "metadata": {},
   "outputs": [],
   "source": [
    "xlsx = pd.read_excel('../spi.xlsx', sheet_name=None)\n",
    "xlsx.keys()"
   ]
  },
  {
   "cell_type": "markdown",
   "metadata": {},
   "source": [
    "SPIデータは国連に加盟する国と地域を54個の指標を用いて比較したものである。このデータは2014年から2018年のデータを含んでいる。\n",
    "\n",
    "`spi2018` は2018年版の SPI の表を保持している。"
   ]
  },
  {
   "cell_type": "code",
   "execution_count": null,
   "metadata": {},
   "outputs": [],
   "source": [
    "spi2018 = xlsx['2018']\n",
    "indices = list(spi2018.keys())"
   ]
  },
  {
   "cell_type": "markdown",
   "metadata": {},
   "source": [
    "この表は 69 個の列を含む。先頭の2列は国や地域の名称とコードを与えている。表には全部で236個の国と地域のデータを含んでいる。以下の例ではこのうち先頭の5つの国と地域 (Afghanistan, Angola, Albania, United Arab Emirates, Argentina) のデータの一部を表示する。\n",
    "\n",
    "表は、それぞれの国と地域についてのデータなど、67個の列から構成されている。これらのうち、先頭の2列は国名であり、後ろの方の54個は基礎指標である。残りは基礎指標を集計した抽象化された指標である。列は `spi2018.keys()` によって得られる。\n",
    "\n",
    "以下の例では、表の列のうち先頭の5つを表示している。なお、Pandas の表は Python のリストと類似したスライス記法に対応している。`[:n]` はリスト等の構造の先頭の $n$ 個の要素群、`[n:]` はn番目の要素以降の要素群を指す。また、要素のインデックスとして負の値はリスト等の構造の後ろからn個目の要素を指す。たとえば要素数10のリストxに関して、`x[-3]` はこのリストの最後の3要素からなるリストとなる。"
   ]
  },
  {
   "cell_type": "code",
   "execution_count": null,
   "metadata": {},
   "outputs": [],
   "source": [
    "# SPI 指標の列挙\n",
    "print('#SPI Indices = ' + str(len(indices)) + '\\n  - ' +\n",
    "      '\\n  - '.join(indices[:6]) +\n",
    "      ',\\n    ...,\\n  - ' +\n",
    "      '\\n  - '.join(indices[-5:]), '\\n')\n",
    "\n",
    "print(spi2018['Country'], '\\n')\n",
    "print(spi2018['Code'], '\\n')\n",
    "\n",
    "# 表の一部の表示\n",
    "indices4 = indices[:4]  # 最初の4列の名前からなるリスト\n",
    "display(spi2018[indices[:4]][:5])\n",
    "\n",
    "# 表に含まれる国と地域の数を表示\n",
    "print('\\n#Contries & Regions =', len(spi2018['Country']), ':', list(spi2018['Country']))"
   ]
  },
  {
   "cell_type": "markdown",
   "metadata": {},
   "source": [
    "## 行を指定して取得\n",
    "\n",
    "列の値についての論理式を記述することで表の行に対するマスクを作成することができる。たとえば、以下の式は各国と地域についての真理値となり、Albania は真値、その他の国と地域は偽値をとる。\n",
    "\n",
    "> spi2018['Country'] == 'Albania'\n",
    "\n",
    "このような真理値をマスクとして `spi2018` に適用することによって、以下のように真値に該当する行のみを取り出すことができる。\n",
    "\n",
    "> spi2018[spi2018['Country'] == 'Albania']"
   ]
  },
  {
   "cell_type": "code",
   "execution_count": null,
   "metadata": {},
   "outputs": [],
   "source": [
    "print(spi2018['Social Progress Index'], '\\n')\n",
    "\n",
    "# 国名が Albania に一致するか否かでマスクを作成する。\n",
    "print(spi2018['Country'] == 'Albania')\n",
    "\n",
    "# 上述の論理値をマスクとして適用し Albania の指標データを取得。\n",
    "display(spi2018[spi2018['Country'] == 'Albania'][indices[:7]], '\\n')\n",
    "\n",
    "# India, Ireland, ..., Japan を抽出するマスク\n",
    "display((spi2018['Country'] >= 'India') & (spi2018['Country'] <= 'Japan'))\n",
    "\n",
    "# India, Ireland, ..., Japan のデータを取得する\n",
    "display(spi2018[(spi2018['Country'] >= 'India') & (spi2018['Country'] <= 'Japan')][indices[:5]])"
   ]
  },
  {
   "cell_type": "markdown",
   "metadata": {},
   "source": [
    "## 課題\n",
    "\n",
    "1. 日本とNorwayのデータを表示しなさい。\n",
    "2. 日本とNorwayのデータのうち Basic Human Needs, Foundations of Wellbeing, Opportunity の列を表示しなさい。"
   ]
  },
  {
   "cell_type": "code",
   "execution_count": null,
   "metadata": {},
   "outputs": [],
   "source": [
    "# 課題の回答"
   ]
  },
  {
   "cell_type": "markdown",
   "metadata": {},
   "source": [
    "## 最高値の取得\n",
    "\n",
    "`max` メソッドにより表の最高値を取得でき、`idxmax` メソッドにより最高値を与える行番号を取得できる。\n",
    "\n",
    "`loc` メソッドを用いることで、複数の行番号 (`i`, `j`, `k`) を指定して、その行のデータを `spi2018.loc[[i, j, k]]` で取得できる。\n",
    "\n",
    "以下の例が示すように、Social Progress Index について最高値となる国は Norway である。"
   ]
  },
  {
   "cell_type": "code",
   "execution_count": null,
   "metadata": {},
   "outputs": [],
   "source": [
    "SPI = 'Social Progress Index'\n",
    "print(spi2018[SPI].max(), spi2018[SPI].idxmax())\n",
    "i = spi2018[SPI].idxmax()\n",
    "spi2018.loc[[i]][indices[:7]]"
   ]
  },
  {
   "cell_type": "markdown",
   "metadata": {},
   "source": [
    "## 課題\n",
    "\n",
    "以下の4つの指標について最大値を与える国々それぞれについて、国名と4つの指標を表示しなさい。\n",
    "\n",
    "- Social Progress Index\n",
    "- Basic Human Needs\n",
    "- Foundations of Wellbeing\n",
    "- Opportunity"
   ]
  },
  {
   "cell_type": "code",
   "execution_count": null,
   "metadata": {},
   "outputs": [],
   "source": [
    "# 課題の回答"
   ]
  },
  {
   "cell_type": "markdown",
   "metadata": {},
   "source": [
    "## 課題\n",
    "\n",
    "前問の4つの指標について、平均値 ([mean](http://pandas.pydata.org/pandas-docs/stable/reference/api/pandas.DataFrame.mean.html#pandas.DataFrame.mean))と標準偏差([std](http://pandas.pydata.org/pandas-docs/stable/reference/api/pandas.DataFrame.std.html#pandas.DataFrame.std))を表示しなさい。"
   ]
  },
  {
   "cell_type": "code",
   "execution_count": null,
   "metadata": {},
   "outputs": [],
   "source": [
    "# 課題の回答"
   ]
  },
  {
   "cell_type": "markdown",
   "metadata": {},
   "source": [
    "## 課題\n",
    "\n",
    "Social Progress Index に関して各国の偏差値を求めなさい。\n",
    "\n",
    "Norway, Japan, United States の Social Progress Index 値と偏差値を表示しなさい。\n",
    "\n",
    "**ヒント**: Social Progress Index が提供されておらず `NaN` となっている国が気になるかと思う。このようなこのような国々について `mean` も `std` もこのような値は無視して計算する。詳しくは [mean](http://pandas.pydata.org/pandas-docs/stable/reference/api/pandas.DataFrame.mean.html#pandas.DataFrame.mean), [std](http://pandas.pydata.org/pandas-docs/stable/reference/api/pandas.DataFrame.std.html#pandas.DataFrame.std) の `skipna` パラメタの説明を参照のこと。\n",
    "\n",
    "**ヒント**: [merge](http://pandas.pydata.org/pandas-docs/stable/reference/api/pandas.DataFrame.merge.html#pandas.DataFrame.merge) メソッドを用いて国名の表と偏差値の表を合併してもよい。"
   ]
  },
  {
   "cell_type": "code",
   "execution_count": null,
   "metadata": {},
   "outputs": [],
   "source": [
    "# 課題の回答"
   ]
  }
 ],
 "metadata": {
  "kernelspec": {
   "display_name": "Python 3",
   "language": "python",
   "name": "python3"
  },
  "language_info": {
   "codemirror_mode": {
    "name": "ipython",
    "version": 3
   },
   "file_extension": ".py",
   "mimetype": "text/x-python",
   "name": "python",
   "nbconvert_exporter": "python",
   "pygments_lexer": "ipython3",
   "version": "3.7.3"
  }
 },
 "nbformat": 4,
 "nbformat_minor": 4
}
